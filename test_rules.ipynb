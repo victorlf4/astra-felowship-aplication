{
 "cells": [
  {
   "cell_type": "code",
   "execution_count": 2,
   "metadata": {},
   "outputs": [],
   "source": [
    "import openai\n",
    "from collections import defaultdict\n",
    "from itertools import zip_longest\n",
    "import re\n",
    "import random\n",
    "import matplotlib.pyplot as plt"
   ]
  },
  {
   "cell_type": "code",
   "execution_count": 4,
   "metadata": {},
   "outputs": [],
   "source": [
    "with open('openAI.key', 'r') as file:\n",
    "    openAI_key = file.read()"
   ]
  },
  {
   "cell_type": "code",
   "execution_count": 5,
   "metadata": {},
   "outputs": [],
   "source": [
    "from openai import OpenAI\n",
    "openai.api_key = \"\"#todo remove or make it read from a doc that I dont submit.\n",
    "client = OpenAI(\n",
    "    api_key=openAI_key,\n",
    ")"
   ]
  },
  {
   "cell_type": "code",
   "execution_count": 15,
   "metadata": {},
   "outputs": [],
   "source": [
    "model=\"gpt-3.5-turbo\"#using this one cause gpt4 is expensive."
   ]
  },
  {
   "cell_type": "code",
   "execution_count": 6,
   "metadata": {},
   "outputs": [],
   "source": [
    "def lower_than_rule(number):\n",
    "    return number < 50\n"
   ]
  },
  {
   "cell_type": "code",
   "execution_count": 59,
   "metadata": {},
   "outputs": [],
   "source": [
    "def generate_example_int_list(rule,size=20,range_min=1,range_max=1000):\n",
    "    random_integer_list = []\n",
    "    for i in range(size):\n",
    "        random_integer_list.append(random.randint(range_min, range_max))\n",
    "\n",
    "    example_list=\"\"\n",
    "    for number in random_integer_list:\n",
    "        if example_list !=\"\":\n",
    "            example_list+=\", \"\n",
    "        rule_value= lower_than_rule(number)\n",
    "        example_list+=(f\"{number} -> {rule_value}\")\n",
    "    return example_list,random_integer_list"
   ]
  },
  {
   "cell_type": "code",
   "execution_count": 60,
   "metadata": {},
   "outputs": [],
   "source": [
    "def generate_prompt(rule,example_list,excluded_ints,range_min=1,range_max=1000):\n",
    "    all_integers = list(range(range_min, range_max+1))\n",
    "    valid_integers = [x for x in all_integers if x not in excluded_ints]\n",
    "    test_number= random.choice(valid_integers)\n",
    "    test_number_rule_value=rule(test_number)\n",
    "    prompt =example_list+f\", {test_number}->\"\n",
    "    return prompt,test_number,test_number_rule_value\n",
    "\n",
    "\n",
    "    \n"
   ]
  },
  {
   "cell_type": "code",
   "execution_count": 61,
   "metadata": {},
   "outputs": [],
   "source": [
    "def test_examples(example_list,existing_ints,rule,attempts=10,range_min=1,range_max=1000):\n",
    "    correct_counter=0\n",
    "    for i in range(attempts):\n",
    "        prompt,test_number,test_number_rule_value=generate_prompt(rule,example_list,existing_ints,range_min,range_max)\n",
    "        message={\"role\": \"user\", \"content\": prompt}\n",
    "        print(\"generating response....\")#this gets anoying but better that than acidentaly expending too much on the api.\n",
    "        chat_completion = client.chat.completions.create(model=model, temperature=1, messages=[message],max_tokens=1)\n",
    "        response = chat_completion.choices[0].message.content\n",
    "        if response == str(test_number_rule_value):#could fail due to tokenization weirdness but seems to work in practice\n",
    "            correct_counter+=1 \n",
    "        else:\n",
    "            print(f\"error on {test_number} expected {test_number_rule_value} returned {response}\")\n",
    "            \n",
    "                \n",
    "    print(f\"Accuracy:{(correct_counter/attempts)*100}%\")      "
   ]
  },
  {
   "cell_type": "code",
   "execution_count": 62,
   "metadata": {},
   "outputs": [],
   "source": [
    "def generate_explanations(example_list,existing_ints,n_completions=5):\n",
    "    prompt,test_number,test_number_rule_value=generate_prompt(lower_than_rule,example_list,existing_ints)\n",
    "    test_mesage={\"role\": \"user\", \"content\":prompt}\n",
    "    print(\"generating response....\")\n",
    "    chat_completion = client.chat.completions.create(model=model, temperature=1, messages=[test_mesage],max_tokens=1)\n",
    "    response = chat_completion.choices[0].message.content\n",
    "    if response == str(test_number_rule_value):#might fail due to tokenization weirdness but seems to work well enough\n",
    "        print(f\"Example {test_number} correct\")\n",
    "    else:\n",
    "        print(f\"Error on {test_number} expected {test_number_rule_value} returned {response}\")\n",
    "\n",
    "    model_response={\"role\": \"assistant\", \"content\":response}\n",
    "    articulation_question={\"role\": \"user\", \"content\":\"why?\" }\n",
    "\n",
    "    chat_completion = client.chat.completions.create(model=model, temperature=1, messages=[test_mesage,model_response,articulation_question],max_tokens=200,n=n_completions)\n",
    "    print(\"Explanations generated\")\n",
    "    return chat_completion"
   ]
  },
  {
   "cell_type": "code",
   "execution_count": 63,
   "metadata": {},
   "outputs": [
    {
     "name": "stdout",
     "output_type": "stream",
     "text": [
      "example_list:960 -> False, 368 -> False, 184 -> False, 161 -> False, 140 -> False, 245 -> False, 716 -> False, 724 -> False, 895 -> False, 272 -> False, 464 -> False, 441 -> False, 195 -> False, 9 -> True, 516 -> False, 357 -> False, 619 -> False, 398 -> False, 523 -> False, 919 -> False, 500 -> False, 195 -> False, 147 -> False, 379 -> False, 364 -> False, 749 -> False, 515 -> False, 915 -> False, 618 -> False, 929 -> False, 145 -> False, 602 -> False, 25 -> True, 267 -> False, 912 -> False, 76 -> False, 459 -> False, 573 -> False, 365 -> False, 481 -> False\n"
     ]
    }
   ],
   "source": [
    "example_list,existing_ints=generate_example_int_list(lower_than_rule,40)\n",
    "print(f\"example_list:{example_list}\")\n"
   ]
  },
  {
   "cell_type": "code",
   "execution_count": 49,
   "metadata": {},
   "outputs": [
    {
     "name": "stdout",
     "output_type": "stream",
     "text": [
      "generating response....\n",
      "generation sucessfull\n",
      "error on 30 expected True returned False\n",
      "generating response....\n",
      "generation sucessfull\n",
      "generating response....\n",
      "generation sucessfull\n",
      "generating response....\n",
      "generation sucessfull\n",
      "generating response....\n",
      "generation sucessfull\n",
      "generating response....\n",
      "generation sucessfull\n",
      "generating response....\n",
      "generation sucessfull\n",
      "generating response....\n",
      "generation sucessfull\n",
      "generating response....\n",
      "generation sucessfull\n",
      "generating response....\n",
      "generation sucessfull\n",
      "Accuracy:90.0%\n"
     ]
    }
   ],
   "source": [
    "test_examples(example_list,existing_ints,lower_than_rule,attempts=10)"
   ]
  },
  {
   "cell_type": "code",
   "execution_count": 82,
   "metadata": {},
   "outputs": [
    {
     "name": "stdout",
     "output_type": "stream",
     "text": [
      "generating response....\n",
      "Example 957 correct\n",
      "Explanations generated\n"
     ]
    },
    {
     "data": {
      "text/plain": [
       "ChatCompletion(id='chatcmpl-8QT6n4ePnh7DHx249X3HpJxcxiRFX', choices=[Choice(finish_reason='stop', index=0, message=ChatCompletionMessage(content='The number 957 is not a power of 2. To determine if a number is a power of 2, we check if it is divisible by 2 repeatedly until we reach 1. If at any point the number is not divisible by 2, then it is not a power of 2. In this case, the number 957 is not divisible by 2, so it is not a power of 2. Therefore, the statement \"957 is a power of 2\" is false.', role='assistant', function_call=None, tool_calls=None)), Choice(finish_reason='stop', index=1, message=ChatCompletionMessage(content='The number 957 is not a multiple of 28, so the statement \"957 -> True\" is false.', role='assistant', function_call=None, tool_calls=None)), Choice(finish_reason='stop', index=2, message=ChatCompletionMessage(content='My apologies for the previous incorrect response. The correct answer is False.\\n\\nThe number 957 is not divisible by 3.', role='assistant', function_call=None, tool_calls=None)), Choice(finish_reason='stop', index=3, message=ChatCompletionMessage(content='Sorry, there was an error in my response. Let me correct it.\\n\\n957 -> True\\n\\nThe number 957 is not divisible by 2 but it is divisible by 3, therefore it is not a prime number.', role='assistant', function_call=None, tool_calls=None)), Choice(finish_reason='stop', index=4, message=ChatCompletionMessage(content='The number 957 is not a multiple of 3, which is the condition for the number to be considered true. Therefore, it is false.', role='assistant', function_call=None, tool_calls=None))], created=1701319113, model='gpt-3.5-turbo-0613', object='chat.completion', system_fingerprint=None, usage=CompletionUsage(completion_tokens=227, prompt_tokens=1020, total_tokens=1247))"
      ]
     },
     "execution_count": 82,
     "metadata": {},
     "output_type": "execute_result"
    }
   ],
   "source": [
    "chat_completion=generate_explanations(example_list,existing_ints)"
   ]
  },
  {
   "cell_type": "code",
   "execution_count": 53,
   "metadata": {},
   "outputs": [
    {
     "name": "stdout",
     "output_type": "stream",
     "text": [
      "I apologize for the mistake. I made an error in my response. The correct response to \"69\" should be False, not True. Thank you for pointing out the mistake.\n",
      "Apologies for the mistake in my previous response. The correct answer is as follows:\n",
      "\n",
      "69 -> False\n",
      "\n",
      "The number 69 is not divisible by 3.\n",
      "I apologize for the wrong answer. The correct answer for 69 is True. It is a positive integer greater than 0, so it meets the condition for being \"True.\"\n",
      "I apologize for the confusion. Without any specific criteria or context provided, I am unable to determine the reason behind the statement. Could you please provide more information or clarify the question?\n",
      "Because in the given sequence, all the numbers except for 82, 52, 78, 88, 61, 98, 97, 67, 86, 64, 70, 87, and 69 are true.\n"
     ]
    }
   ],
   "source": [
    "for response in chat_completion.choices:\n",
    "       print(response .message.content)"
   ]
  },
  {
   "cell_type": "code",
   "execution_count": 64,
   "metadata": {},
   "outputs": [],
   "source": [
    "def is_even_rule(number):\n",
    "    return number % 2 == 0"
   ]
  },
  {
   "cell_type": "code",
   "execution_count": 84,
   "metadata": {},
   "outputs": [
    {
     "name": "stdout",
     "output_type": "stream",
     "text": [
      "example_list:298 -> False, 863 -> False, 73 -> False, 215 -> False, 774 -> False, 637 -> False, 663 -> False, 311 -> False, 953 -> False, 875 -> False, 99 -> False, 213 -> False, 435 -> False, 492 -> False, 663 -> False, 475 -> False, 528 -> False, 152 -> False, 1000 -> False, 355 -> False, 218 -> False, 478 -> False, 275 -> False, 615 -> False, 167 -> False, 12 -> True, 859 -> False, 832 -> False, 492 -> False, 36 -> True, 978 -> False, 836 -> False, 640 -> False, 911 -> False, 175 -> False, 415 -> False, 644 -> False, 395 -> False, 89 -> False, 831 -> False, 452 -> False, 505 -> False, 583 -> False, 707 -> False, 567 -> False, 871 -> False, 507 -> False, 758 -> False, 259 -> False, 18 -> True, 237 -> False, 70 -> False, 479 -> False, 42 -> True, 815 -> False, 299 -> False, 415 -> False, 662 -> False, 481 -> False, 276 -> False, 889 -> False, 184 -> False, 391 -> False, 955 -> False, 433 -> False, 851 -> False, 599 -> False, 93 -> False, 930 -> False, 532 -> False, 785 -> False, 120 -> False, 360 -> False, 143 -> False, 329 -> False, 413 -> False, 709 -> False, 447 -> False, 323 -> False, 802 -> False, 743 -> False, 307 -> False, 130 -> False, 262 -> False, 426 -> False, 43 -> True, 844 -> False, 248 -> False, 325 -> False, 195 -> False, 994 -> False, 727 -> False, 683 -> False, 749 -> False, 113 -> False, 603 -> False, 38 -> True, 273 -> False, 121 -> False, 145 -> False, 678 -> False, 838 -> False, 795 -> False, 874 -> False, 101 -> False, 15 -> True, 72 -> False, 816 -> False, 589 -> False, 778 -> False, 883 -> False, 476 -> False, 122 -> False, 592 -> False, 16 -> True, 111 -> False, 48 -> True, 43 -> True, 728 -> False, 672 -> False, 749 -> False, 489 -> False, 350 -> False, 922 -> False, 800 -> False, 358 -> False, 753 -> False, 858 -> False, 287 -> False, 713 -> False, 88 -> False, 177 -> False, 194 -> False, 292 -> False, 965 -> False, 575 -> False, 347 -> False, 324 -> False, 719 -> False, 826 -> False, 970 -> False, 136 -> False, 281 -> False, 506 -> False, 857 -> False, 863 -> False, 59 -> False, 313 -> False, 32 -> True, 107 -> False, 810 -> False, 559 -> False, 715 -> False, 952 -> False, 16 -> True, 173 -> False, 285 -> False, 380 -> False, 592 -> False, 268 -> False, 711 -> False, 153 -> False, 782 -> False, 231 -> False, 939 -> False, 161 -> False, 256 -> False, 697 -> False, 621 -> False, 917 -> False, 671 -> False, 733 -> False, 993 -> False, 359 -> False, 463 -> False, 67 -> False, 786 -> False, 807 -> False, 201 -> False, 636 -> False, 969 -> False, 332 -> False, 999 -> False, 110 -> False, 936 -> False, 467 -> False, 663 -> False, 953 -> False, 455 -> False, 983 -> False, 957 -> False, 111 -> False, 765 -> False, 720 -> False, 416 -> False, 121 -> False, 460 -> False, 607 -> False, 990 -> False, 301 -> False\n",
      "generating response....\n"
     ]
    },
    {
     "ename": "KeyboardInterrupt",
     "evalue": "",
     "output_type": "error",
     "traceback": [
      "\u001b[0;31m---------------------------------------------------------------------------\u001b[0m",
      "\u001b[0;31mKeyboardInterrupt\u001b[0m                         Traceback (most recent call last)",
      "\u001b[1;32m/media/victor/F8D25071D25035DA/Alingment/owain_evans/astra-felowship-aplication/test_rules.ipynb Cell 15\u001b[0m line \u001b[0;36m3\n\u001b[1;32m      <a href='vscode-notebook-cell:/media/victor/F8D25071D25035DA/Alingment/owain_evans/astra-felowship-aplication/test_rules.ipynb#X31sZmlsZQ%3D%3D?line=0'>1</a>\u001b[0m example_list,existing_ints\u001b[39m=\u001b[39mgenerate_example_int_list(is_even_rule,\u001b[39m200\u001b[39m)\n\u001b[1;32m      <a href='vscode-notebook-cell:/media/victor/F8D25071D25035DA/Alingment/owain_evans/astra-felowship-aplication/test_rules.ipynb#X31sZmlsZQ%3D%3D?line=1'>2</a>\u001b[0m \u001b[39mprint\u001b[39m(\u001b[39mf\u001b[39m\u001b[39m\"\u001b[39m\u001b[39mexample_list:\u001b[39m\u001b[39m{\u001b[39;00mexample_list\u001b[39m}\u001b[39;00m\u001b[39m\"\u001b[39m)\n\u001b[0;32m----> <a href='vscode-notebook-cell:/media/victor/F8D25071D25035DA/Alingment/owain_evans/astra-felowship-aplication/test_rules.ipynb#X31sZmlsZQ%3D%3D?line=2'>3</a>\u001b[0m test_examples(example_list,existing_ints,is_even_rule,attempts\u001b[39m=\u001b[39;49m\u001b[39m10\u001b[39;49m)\n",
      "\u001b[1;32m/media/victor/F8D25071D25035DA/Alingment/owain_evans/astra-felowship-aplication/test_rules.ipynb Cell 15\u001b[0m line \u001b[0;36m7\n\u001b[1;32m      <a href='vscode-notebook-cell:/media/victor/F8D25071D25035DA/Alingment/owain_evans/astra-felowship-aplication/test_rules.ipynb#X31sZmlsZQ%3D%3D?line=4'>5</a>\u001b[0m message\u001b[39m=\u001b[39m{\u001b[39m\"\u001b[39m\u001b[39mrole\u001b[39m\u001b[39m\"\u001b[39m: \u001b[39m\"\u001b[39m\u001b[39muser\u001b[39m\u001b[39m\"\u001b[39m, \u001b[39m\"\u001b[39m\u001b[39mcontent\u001b[39m\u001b[39m\"\u001b[39m: prompt}\n\u001b[1;32m      <a href='vscode-notebook-cell:/media/victor/F8D25071D25035DA/Alingment/owain_evans/astra-felowship-aplication/test_rules.ipynb#X31sZmlsZQ%3D%3D?line=5'>6</a>\u001b[0m \u001b[39mprint\u001b[39m(\u001b[39m\"\u001b[39m\u001b[39mgenerating response....\u001b[39m\u001b[39m\"\u001b[39m)\n\u001b[0;32m----> <a href='vscode-notebook-cell:/media/victor/F8D25071D25035DA/Alingment/owain_evans/astra-felowship-aplication/test_rules.ipynb#X31sZmlsZQ%3D%3D?line=6'>7</a>\u001b[0m chat_completion \u001b[39m=\u001b[39m client\u001b[39m.\u001b[39;49mchat\u001b[39m.\u001b[39;49mcompletions\u001b[39m.\u001b[39;49mcreate(model\u001b[39m=\u001b[39;49mmodel, temperature\u001b[39m=\u001b[39;49m\u001b[39m1\u001b[39;49m, messages\u001b[39m=\u001b[39;49m[message],max_tokens\u001b[39m=\u001b[39;49m\u001b[39m1\u001b[39;49m)\n\u001b[1;32m      <a href='vscode-notebook-cell:/media/victor/F8D25071D25035DA/Alingment/owain_evans/astra-felowship-aplication/test_rules.ipynb#X31sZmlsZQ%3D%3D?line=7'>8</a>\u001b[0m \u001b[39mprint\u001b[39m(\u001b[39m\"\u001b[39m\u001b[39mgeneration sucessfull\u001b[39m\u001b[39m\"\u001b[39m)\u001b[39m#this gets anoying but better that than acidentaly expending too much on the api.\u001b[39;00m\n\u001b[1;32m      <a href='vscode-notebook-cell:/media/victor/F8D25071D25035DA/Alingment/owain_evans/astra-felowship-aplication/test_rules.ipynb#X31sZmlsZQ%3D%3D?line=8'>9</a>\u001b[0m response \u001b[39m=\u001b[39m chat_completion\u001b[39m.\u001b[39mchoices[\u001b[39m0\u001b[39m]\u001b[39m.\u001b[39mmessage\u001b[39m.\u001b[39mcontent\n",
      "File \u001b[0;32m/media/victor/F8D25071D25035DA/Alingment/owain_evans/astra-felowship-aplication/.venv/lib/python3.10/site-packages/openai/_utils/_utils.py:301\u001b[0m, in \u001b[0;36mrequired_args.<locals>.inner.<locals>.wrapper\u001b[0;34m(*args, **kwargs)\u001b[0m\n\u001b[1;32m    299\u001b[0m             msg \u001b[39m=\u001b[39m \u001b[39mf\u001b[39m\u001b[39m\"\u001b[39m\u001b[39mMissing required argument: \u001b[39m\u001b[39m{\u001b[39;00mquote(missing[\u001b[39m0\u001b[39m])\u001b[39m}\u001b[39;00m\u001b[39m\"\u001b[39m\n\u001b[1;32m    300\u001b[0m     \u001b[39mraise\u001b[39;00m \u001b[39mTypeError\u001b[39;00m(msg)\n\u001b[0;32m--> 301\u001b[0m \u001b[39mreturn\u001b[39;00m func(\u001b[39m*\u001b[39;49margs, \u001b[39m*\u001b[39;49m\u001b[39m*\u001b[39;49mkwargs)\n",
      "File \u001b[0;32m/media/victor/F8D25071D25035DA/Alingment/owain_evans/astra-felowship-aplication/.venv/lib/python3.10/site-packages/openai/resources/chat/completions.py:598\u001b[0m, in \u001b[0;36mCompletions.create\u001b[0;34m(self, messages, model, frequency_penalty, function_call, functions, logit_bias, max_tokens, n, presence_penalty, response_format, seed, stop, stream, temperature, tool_choice, tools, top_p, user, extra_headers, extra_query, extra_body, timeout)\u001b[0m\n\u001b[1;32m    551\u001b[0m \u001b[39m@required_args\u001b[39m([\u001b[39m\"\u001b[39m\u001b[39mmessages\u001b[39m\u001b[39m\"\u001b[39m, \u001b[39m\"\u001b[39m\u001b[39mmodel\u001b[39m\u001b[39m\"\u001b[39m], [\u001b[39m\"\u001b[39m\u001b[39mmessages\u001b[39m\u001b[39m\"\u001b[39m, \u001b[39m\"\u001b[39m\u001b[39mmodel\u001b[39m\u001b[39m\"\u001b[39m, \u001b[39m\"\u001b[39m\u001b[39mstream\u001b[39m\u001b[39m\"\u001b[39m])\n\u001b[1;32m    552\u001b[0m \u001b[39mdef\u001b[39;00m \u001b[39mcreate\u001b[39m(\n\u001b[1;32m    553\u001b[0m     \u001b[39mself\u001b[39m,\n\u001b[0;32m   (...)\u001b[0m\n\u001b[1;32m    596\u001b[0m     timeout: \u001b[39mfloat\u001b[39m \u001b[39m|\u001b[39m httpx\u001b[39m.\u001b[39mTimeout \u001b[39m|\u001b[39m \u001b[39mNone\u001b[39;00m \u001b[39m|\u001b[39m NotGiven \u001b[39m=\u001b[39m NOT_GIVEN,\n\u001b[1;32m    597\u001b[0m ) \u001b[39m-\u001b[39m\u001b[39m>\u001b[39m ChatCompletion \u001b[39m|\u001b[39m Stream[ChatCompletionChunk]:\n\u001b[0;32m--> 598\u001b[0m     \u001b[39mreturn\u001b[39;00m \u001b[39mself\u001b[39;49m\u001b[39m.\u001b[39;49m_post(\n\u001b[1;32m    599\u001b[0m         \u001b[39m\"\u001b[39;49m\u001b[39m/chat/completions\u001b[39;49m\u001b[39m\"\u001b[39;49m,\n\u001b[1;32m    600\u001b[0m         body\u001b[39m=\u001b[39;49mmaybe_transform(\n\u001b[1;32m    601\u001b[0m             {\n\u001b[1;32m    602\u001b[0m                 \u001b[39m\"\u001b[39;49m\u001b[39mmessages\u001b[39;49m\u001b[39m\"\u001b[39;49m: messages,\n\u001b[1;32m    603\u001b[0m                 \u001b[39m\"\u001b[39;49m\u001b[39mmodel\u001b[39;49m\u001b[39m\"\u001b[39;49m: model,\n\u001b[1;32m    604\u001b[0m                 \u001b[39m\"\u001b[39;49m\u001b[39mfrequency_penalty\u001b[39;49m\u001b[39m\"\u001b[39;49m: frequency_penalty,\n\u001b[1;32m    605\u001b[0m                 \u001b[39m\"\u001b[39;49m\u001b[39mfunction_call\u001b[39;49m\u001b[39m\"\u001b[39;49m: function_call,\n\u001b[1;32m    606\u001b[0m                 \u001b[39m\"\u001b[39;49m\u001b[39mfunctions\u001b[39;49m\u001b[39m\"\u001b[39;49m: functions,\n\u001b[1;32m    607\u001b[0m                 \u001b[39m\"\u001b[39;49m\u001b[39mlogit_bias\u001b[39;49m\u001b[39m\"\u001b[39;49m: logit_bias,\n\u001b[1;32m    608\u001b[0m                 \u001b[39m\"\u001b[39;49m\u001b[39mmax_tokens\u001b[39;49m\u001b[39m\"\u001b[39;49m: max_tokens,\n\u001b[1;32m    609\u001b[0m                 \u001b[39m\"\u001b[39;49m\u001b[39mn\u001b[39;49m\u001b[39m\"\u001b[39;49m: n,\n\u001b[1;32m    610\u001b[0m                 \u001b[39m\"\u001b[39;49m\u001b[39mpresence_penalty\u001b[39;49m\u001b[39m\"\u001b[39;49m: presence_penalty,\n\u001b[1;32m    611\u001b[0m                 \u001b[39m\"\u001b[39;49m\u001b[39mresponse_format\u001b[39;49m\u001b[39m\"\u001b[39;49m: response_format,\n\u001b[1;32m    612\u001b[0m                 \u001b[39m\"\u001b[39;49m\u001b[39mseed\u001b[39;49m\u001b[39m\"\u001b[39;49m: seed,\n\u001b[1;32m    613\u001b[0m                 \u001b[39m\"\u001b[39;49m\u001b[39mstop\u001b[39;49m\u001b[39m\"\u001b[39;49m: stop,\n\u001b[1;32m    614\u001b[0m                 \u001b[39m\"\u001b[39;49m\u001b[39mstream\u001b[39;49m\u001b[39m\"\u001b[39;49m: stream,\n\u001b[1;32m    615\u001b[0m                 \u001b[39m\"\u001b[39;49m\u001b[39mtemperature\u001b[39;49m\u001b[39m\"\u001b[39;49m: temperature,\n\u001b[1;32m    616\u001b[0m                 \u001b[39m\"\u001b[39;49m\u001b[39mtool_choice\u001b[39;49m\u001b[39m\"\u001b[39;49m: tool_choice,\n\u001b[1;32m    617\u001b[0m                 \u001b[39m\"\u001b[39;49m\u001b[39mtools\u001b[39;49m\u001b[39m\"\u001b[39;49m: tools,\n\u001b[1;32m    618\u001b[0m                 \u001b[39m\"\u001b[39;49m\u001b[39mtop_p\u001b[39;49m\u001b[39m\"\u001b[39;49m: top_p,\n\u001b[1;32m    619\u001b[0m                 \u001b[39m\"\u001b[39;49m\u001b[39muser\u001b[39;49m\u001b[39m\"\u001b[39;49m: user,\n\u001b[1;32m    620\u001b[0m             },\n\u001b[1;32m    621\u001b[0m             completion_create_params\u001b[39m.\u001b[39;49mCompletionCreateParams,\n\u001b[1;32m    622\u001b[0m         ),\n\u001b[1;32m    623\u001b[0m         options\u001b[39m=\u001b[39;49mmake_request_options(\n\u001b[1;32m    624\u001b[0m             extra_headers\u001b[39m=\u001b[39;49mextra_headers, extra_query\u001b[39m=\u001b[39;49mextra_query, extra_body\u001b[39m=\u001b[39;49mextra_body, timeout\u001b[39m=\u001b[39;49mtimeout\n\u001b[1;32m    625\u001b[0m         ),\n\u001b[1;32m    626\u001b[0m         cast_to\u001b[39m=\u001b[39;49mChatCompletion,\n\u001b[1;32m    627\u001b[0m         stream\u001b[39m=\u001b[39;49mstream \u001b[39mor\u001b[39;49;00m \u001b[39mFalse\u001b[39;49;00m,\n\u001b[1;32m    628\u001b[0m         stream_cls\u001b[39m=\u001b[39;49mStream[ChatCompletionChunk],\n\u001b[1;32m    629\u001b[0m     )\n",
      "File \u001b[0;32m/media/victor/F8D25071D25035DA/Alingment/owain_evans/astra-felowship-aplication/.venv/lib/python3.10/site-packages/openai/_base_client.py:1063\u001b[0m, in \u001b[0;36mSyncAPIClient.post\u001b[0;34m(self, path, cast_to, body, options, files, stream, stream_cls)\u001b[0m\n\u001b[1;32m   1049\u001b[0m \u001b[39mdef\u001b[39;00m \u001b[39mpost\u001b[39m(\n\u001b[1;32m   1050\u001b[0m     \u001b[39mself\u001b[39m,\n\u001b[1;32m   1051\u001b[0m     path: \u001b[39mstr\u001b[39m,\n\u001b[0;32m   (...)\u001b[0m\n\u001b[1;32m   1058\u001b[0m     stream_cls: \u001b[39mtype\u001b[39m[_StreamT] \u001b[39m|\u001b[39m \u001b[39mNone\u001b[39;00m \u001b[39m=\u001b[39m \u001b[39mNone\u001b[39;00m,\n\u001b[1;32m   1059\u001b[0m ) \u001b[39m-\u001b[39m\u001b[39m>\u001b[39m ResponseT \u001b[39m|\u001b[39m _StreamT:\n\u001b[1;32m   1060\u001b[0m     opts \u001b[39m=\u001b[39m FinalRequestOptions\u001b[39m.\u001b[39mconstruct(\n\u001b[1;32m   1061\u001b[0m         method\u001b[39m=\u001b[39m\u001b[39m\"\u001b[39m\u001b[39mpost\u001b[39m\u001b[39m\"\u001b[39m, url\u001b[39m=\u001b[39mpath, json_data\u001b[39m=\u001b[39mbody, files\u001b[39m=\u001b[39mto_httpx_files(files), \u001b[39m*\u001b[39m\u001b[39m*\u001b[39moptions\n\u001b[1;32m   1062\u001b[0m     )\n\u001b[0;32m-> 1063\u001b[0m     \u001b[39mreturn\u001b[39;00m cast(ResponseT, \u001b[39mself\u001b[39;49m\u001b[39m.\u001b[39;49mrequest(cast_to, opts, stream\u001b[39m=\u001b[39;49mstream, stream_cls\u001b[39m=\u001b[39;49mstream_cls))\n",
      "File \u001b[0;32m/media/victor/F8D25071D25035DA/Alingment/owain_evans/astra-felowship-aplication/.venv/lib/python3.10/site-packages/openai/_base_client.py:842\u001b[0m, in \u001b[0;36mSyncAPIClient.request\u001b[0;34m(self, cast_to, options, remaining_retries, stream, stream_cls)\u001b[0m\n\u001b[1;32m    833\u001b[0m \u001b[39mdef\u001b[39;00m \u001b[39mrequest\u001b[39m(\n\u001b[1;32m    834\u001b[0m     \u001b[39mself\u001b[39m,\n\u001b[1;32m    835\u001b[0m     cast_to: Type[ResponseT],\n\u001b[0;32m   (...)\u001b[0m\n\u001b[1;32m    840\u001b[0m     stream_cls: \u001b[39mtype\u001b[39m[_StreamT] \u001b[39m|\u001b[39m \u001b[39mNone\u001b[39;00m \u001b[39m=\u001b[39m \u001b[39mNone\u001b[39;00m,\n\u001b[1;32m    841\u001b[0m ) \u001b[39m-\u001b[39m\u001b[39m>\u001b[39m ResponseT \u001b[39m|\u001b[39m _StreamT:\n\u001b[0;32m--> 842\u001b[0m     \u001b[39mreturn\u001b[39;00m \u001b[39mself\u001b[39;49m\u001b[39m.\u001b[39;49m_request(\n\u001b[1;32m    843\u001b[0m         cast_to\u001b[39m=\u001b[39;49mcast_to,\n\u001b[1;32m    844\u001b[0m         options\u001b[39m=\u001b[39;49moptions,\n\u001b[1;32m    845\u001b[0m         stream\u001b[39m=\u001b[39;49mstream,\n\u001b[1;32m    846\u001b[0m         stream_cls\u001b[39m=\u001b[39;49mstream_cls,\n\u001b[1;32m    847\u001b[0m         remaining_retries\u001b[39m=\u001b[39;49mremaining_retries,\n\u001b[1;32m    848\u001b[0m     )\n",
      "File \u001b[0;32m/media/victor/F8D25071D25035DA/Alingment/owain_evans/astra-felowship-aplication/.venv/lib/python3.10/site-packages/openai/_base_client.py:866\u001b[0m, in \u001b[0;36mSyncAPIClient._request\u001b[0;34m(self, cast_to, options, remaining_retries, stream, stream_cls)\u001b[0m\n\u001b[1;32m    863\u001b[0m \u001b[39mself\u001b[39m\u001b[39m.\u001b[39m_prepare_request(request)\n\u001b[1;32m    865\u001b[0m \u001b[39mtry\u001b[39;00m:\n\u001b[0;32m--> 866\u001b[0m     response \u001b[39m=\u001b[39m \u001b[39mself\u001b[39;49m\u001b[39m.\u001b[39;49m_client\u001b[39m.\u001b[39;49msend(request, auth\u001b[39m=\u001b[39;49m\u001b[39mself\u001b[39;49m\u001b[39m.\u001b[39;49mcustom_auth, stream\u001b[39m=\u001b[39;49mstream)\n\u001b[1;32m    867\u001b[0m     log\u001b[39m.\u001b[39mdebug(\n\u001b[1;32m    868\u001b[0m         \u001b[39m'\u001b[39m\u001b[39mHTTP Request: \u001b[39m\u001b[39m%s\u001b[39;00m\u001b[39m \u001b[39m\u001b[39m%s\u001b[39;00m\u001b[39m \u001b[39m\u001b[39m\"\u001b[39m\u001b[39m%i\u001b[39;00m\u001b[39m \u001b[39m\u001b[39m%s\u001b[39;00m\u001b[39m\"\u001b[39m\u001b[39m'\u001b[39m, request\u001b[39m.\u001b[39mmethod, request\u001b[39m.\u001b[39murl, response\u001b[39m.\u001b[39mstatus_code, response\u001b[39m.\u001b[39mreason_phrase\n\u001b[1;32m    869\u001b[0m     )\n\u001b[1;32m    870\u001b[0m     response\u001b[39m.\u001b[39mraise_for_status()\n",
      "File \u001b[0;32m/media/victor/F8D25071D25035DA/Alingment/owain_evans/astra-felowship-aplication/.venv/lib/python3.10/site-packages/httpx/_client.py:901\u001b[0m, in \u001b[0;36mClient.send\u001b[0;34m(self, request, stream, auth, follow_redirects)\u001b[0m\n\u001b[1;32m    893\u001b[0m follow_redirects \u001b[39m=\u001b[39m (\n\u001b[1;32m    894\u001b[0m     \u001b[39mself\u001b[39m\u001b[39m.\u001b[39mfollow_redirects\n\u001b[1;32m    895\u001b[0m     \u001b[39mif\u001b[39;00m \u001b[39misinstance\u001b[39m(follow_redirects, UseClientDefault)\n\u001b[1;32m    896\u001b[0m     \u001b[39melse\u001b[39;00m follow_redirects\n\u001b[1;32m    897\u001b[0m )\n\u001b[1;32m    899\u001b[0m auth \u001b[39m=\u001b[39m \u001b[39mself\u001b[39m\u001b[39m.\u001b[39m_build_request_auth(request, auth)\n\u001b[0;32m--> 901\u001b[0m response \u001b[39m=\u001b[39m \u001b[39mself\u001b[39;49m\u001b[39m.\u001b[39;49m_send_handling_auth(\n\u001b[1;32m    902\u001b[0m     request,\n\u001b[1;32m    903\u001b[0m     auth\u001b[39m=\u001b[39;49mauth,\n\u001b[1;32m    904\u001b[0m     follow_redirects\u001b[39m=\u001b[39;49mfollow_redirects,\n\u001b[1;32m    905\u001b[0m     history\u001b[39m=\u001b[39;49m[],\n\u001b[1;32m    906\u001b[0m )\n\u001b[1;32m    907\u001b[0m \u001b[39mtry\u001b[39;00m:\n\u001b[1;32m    908\u001b[0m     \u001b[39mif\u001b[39;00m \u001b[39mnot\u001b[39;00m stream:\n",
      "File \u001b[0;32m/media/victor/F8D25071D25035DA/Alingment/owain_evans/astra-felowship-aplication/.venv/lib/python3.10/site-packages/httpx/_client.py:929\u001b[0m, in \u001b[0;36mClient._send_handling_auth\u001b[0;34m(self, request, auth, follow_redirects, history)\u001b[0m\n\u001b[1;32m    926\u001b[0m request \u001b[39m=\u001b[39m \u001b[39mnext\u001b[39m(auth_flow)\n\u001b[1;32m    928\u001b[0m \u001b[39mwhile\u001b[39;00m \u001b[39mTrue\u001b[39;00m:\n\u001b[0;32m--> 929\u001b[0m     response \u001b[39m=\u001b[39m \u001b[39mself\u001b[39;49m\u001b[39m.\u001b[39;49m_send_handling_redirects(\n\u001b[1;32m    930\u001b[0m         request,\n\u001b[1;32m    931\u001b[0m         follow_redirects\u001b[39m=\u001b[39;49mfollow_redirects,\n\u001b[1;32m    932\u001b[0m         history\u001b[39m=\u001b[39;49mhistory,\n\u001b[1;32m    933\u001b[0m     )\n\u001b[1;32m    934\u001b[0m     \u001b[39mtry\u001b[39;00m:\n\u001b[1;32m    935\u001b[0m         \u001b[39mtry\u001b[39;00m:\n",
      "File \u001b[0;32m/media/victor/F8D25071D25035DA/Alingment/owain_evans/astra-felowship-aplication/.venv/lib/python3.10/site-packages/httpx/_client.py:966\u001b[0m, in \u001b[0;36mClient._send_handling_redirects\u001b[0;34m(self, request, follow_redirects, history)\u001b[0m\n\u001b[1;32m    963\u001b[0m \u001b[39mfor\u001b[39;00m hook \u001b[39min\u001b[39;00m \u001b[39mself\u001b[39m\u001b[39m.\u001b[39m_event_hooks[\u001b[39m\"\u001b[39m\u001b[39mrequest\u001b[39m\u001b[39m\"\u001b[39m]:\n\u001b[1;32m    964\u001b[0m     hook(request)\n\u001b[0;32m--> 966\u001b[0m response \u001b[39m=\u001b[39m \u001b[39mself\u001b[39;49m\u001b[39m.\u001b[39;49m_send_single_request(request)\n\u001b[1;32m    967\u001b[0m \u001b[39mtry\u001b[39;00m:\n\u001b[1;32m    968\u001b[0m     \u001b[39mfor\u001b[39;00m hook \u001b[39min\u001b[39;00m \u001b[39mself\u001b[39m\u001b[39m.\u001b[39m_event_hooks[\u001b[39m\"\u001b[39m\u001b[39mresponse\u001b[39m\u001b[39m\"\u001b[39m]:\n",
      "File \u001b[0;32m/media/victor/F8D25071D25035DA/Alingment/owain_evans/astra-felowship-aplication/.venv/lib/python3.10/site-packages/httpx/_client.py:1002\u001b[0m, in \u001b[0;36mClient._send_single_request\u001b[0;34m(self, request)\u001b[0m\n\u001b[1;32m    997\u001b[0m     \u001b[39mraise\u001b[39;00m \u001b[39mRuntimeError\u001b[39;00m(\n\u001b[1;32m    998\u001b[0m         \u001b[39m\"\u001b[39m\u001b[39mAttempted to send an async request with a sync Client instance.\u001b[39m\u001b[39m\"\u001b[39m\n\u001b[1;32m    999\u001b[0m     )\n\u001b[1;32m   1001\u001b[0m \u001b[39mwith\u001b[39;00m request_context(request\u001b[39m=\u001b[39mrequest):\n\u001b[0;32m-> 1002\u001b[0m     response \u001b[39m=\u001b[39m transport\u001b[39m.\u001b[39;49mhandle_request(request)\n\u001b[1;32m   1004\u001b[0m \u001b[39massert\u001b[39;00m \u001b[39misinstance\u001b[39m(response\u001b[39m.\u001b[39mstream, SyncByteStream)\n\u001b[1;32m   1006\u001b[0m response\u001b[39m.\u001b[39mrequest \u001b[39m=\u001b[39m request\n",
      "File \u001b[0;32m/media/victor/F8D25071D25035DA/Alingment/owain_evans/astra-felowship-aplication/.venv/lib/python3.10/site-packages/httpx/_transports/default.py:228\u001b[0m, in \u001b[0;36mHTTPTransport.handle_request\u001b[0;34m(self, request)\u001b[0m\n\u001b[1;32m    215\u001b[0m req \u001b[39m=\u001b[39m httpcore\u001b[39m.\u001b[39mRequest(\n\u001b[1;32m    216\u001b[0m     method\u001b[39m=\u001b[39mrequest\u001b[39m.\u001b[39mmethod,\n\u001b[1;32m    217\u001b[0m     url\u001b[39m=\u001b[39mhttpcore\u001b[39m.\u001b[39mURL(\n\u001b[0;32m   (...)\u001b[0m\n\u001b[1;32m    225\u001b[0m     extensions\u001b[39m=\u001b[39mrequest\u001b[39m.\u001b[39mextensions,\n\u001b[1;32m    226\u001b[0m )\n\u001b[1;32m    227\u001b[0m \u001b[39mwith\u001b[39;00m map_httpcore_exceptions():\n\u001b[0;32m--> 228\u001b[0m     resp \u001b[39m=\u001b[39m \u001b[39mself\u001b[39;49m\u001b[39m.\u001b[39;49m_pool\u001b[39m.\u001b[39;49mhandle_request(req)\n\u001b[1;32m    230\u001b[0m \u001b[39massert\u001b[39;00m \u001b[39misinstance\u001b[39m(resp\u001b[39m.\u001b[39mstream, typing\u001b[39m.\u001b[39mIterable)\n\u001b[1;32m    232\u001b[0m \u001b[39mreturn\u001b[39;00m Response(\n\u001b[1;32m    233\u001b[0m     status_code\u001b[39m=\u001b[39mresp\u001b[39m.\u001b[39mstatus,\n\u001b[1;32m    234\u001b[0m     headers\u001b[39m=\u001b[39mresp\u001b[39m.\u001b[39mheaders,\n\u001b[1;32m    235\u001b[0m     stream\u001b[39m=\u001b[39mResponseStream(resp\u001b[39m.\u001b[39mstream),\n\u001b[1;32m    236\u001b[0m     extensions\u001b[39m=\u001b[39mresp\u001b[39m.\u001b[39mextensions,\n\u001b[1;32m    237\u001b[0m )\n",
      "File \u001b[0;32m/media/victor/F8D25071D25035DA/Alingment/owain_evans/astra-felowship-aplication/.venv/lib/python3.10/site-packages/httpcore/_sync/connection_pool.py:268\u001b[0m, in \u001b[0;36mConnectionPool.handle_request\u001b[0;34m(self, request)\u001b[0m\n\u001b[1;32m    266\u001b[0m     \u001b[39mwith\u001b[39;00m ShieldCancellation():\n\u001b[1;32m    267\u001b[0m         \u001b[39mself\u001b[39m\u001b[39m.\u001b[39mresponse_closed(status)\n\u001b[0;32m--> 268\u001b[0m     \u001b[39mraise\u001b[39;00m exc\n\u001b[1;32m    269\u001b[0m \u001b[39melse\u001b[39;00m:\n\u001b[1;32m    270\u001b[0m     \u001b[39mbreak\u001b[39;00m\n",
      "File \u001b[0;32m/media/victor/F8D25071D25035DA/Alingment/owain_evans/astra-felowship-aplication/.venv/lib/python3.10/site-packages/httpcore/_sync/connection_pool.py:251\u001b[0m, in \u001b[0;36mConnectionPool.handle_request\u001b[0;34m(self, request)\u001b[0m\n\u001b[1;32m    248\u001b[0m         \u001b[39mraise\u001b[39;00m exc\n\u001b[1;32m    250\u001b[0m \u001b[39mtry\u001b[39;00m:\n\u001b[0;32m--> 251\u001b[0m     response \u001b[39m=\u001b[39m connection\u001b[39m.\u001b[39;49mhandle_request(request)\n\u001b[1;32m    252\u001b[0m \u001b[39mexcept\u001b[39;00m ConnectionNotAvailable:\n\u001b[1;32m    253\u001b[0m     \u001b[39m# The ConnectionNotAvailable exception is a special case, that\u001b[39;00m\n\u001b[1;32m    254\u001b[0m     \u001b[39m# indicates we need to retry the request on a new connection.\u001b[39;00m\n\u001b[0;32m   (...)\u001b[0m\n\u001b[1;32m    258\u001b[0m     \u001b[39m# might end up as an HTTP/2 connection, but which actually ends\u001b[39;00m\n\u001b[1;32m    259\u001b[0m     \u001b[39m# up as HTTP/1.1.\u001b[39;00m\n\u001b[1;32m    260\u001b[0m     \u001b[39mwith\u001b[39;00m \u001b[39mself\u001b[39m\u001b[39m.\u001b[39m_pool_lock:\n\u001b[1;32m    261\u001b[0m         \u001b[39m# Maintain our position in the request queue, but reset the\u001b[39;00m\n\u001b[1;32m    262\u001b[0m         \u001b[39m# status so that the request becomes queued again.\u001b[39;00m\n",
      "File \u001b[0;32m/media/victor/F8D25071D25035DA/Alingment/owain_evans/astra-felowship-aplication/.venv/lib/python3.10/site-packages/httpcore/_sync/connection.py:103\u001b[0m, in \u001b[0;36mHTTPConnection.handle_request\u001b[0;34m(self, request)\u001b[0m\n\u001b[1;32m    100\u001b[0m     \u001b[39melif\u001b[39;00m \u001b[39mnot\u001b[39;00m \u001b[39mself\u001b[39m\u001b[39m.\u001b[39m_connection\u001b[39m.\u001b[39mis_available():\n\u001b[1;32m    101\u001b[0m         \u001b[39mraise\u001b[39;00m ConnectionNotAvailable()\n\u001b[0;32m--> 103\u001b[0m \u001b[39mreturn\u001b[39;00m \u001b[39mself\u001b[39;49m\u001b[39m.\u001b[39;49m_connection\u001b[39m.\u001b[39;49mhandle_request(request)\n",
      "File \u001b[0;32m/media/victor/F8D25071D25035DA/Alingment/owain_evans/astra-felowship-aplication/.venv/lib/python3.10/site-packages/httpcore/_sync/http11.py:133\u001b[0m, in \u001b[0;36mHTTP11Connection.handle_request\u001b[0;34m(self, request)\u001b[0m\n\u001b[1;32m    131\u001b[0m     \u001b[39mwith\u001b[39;00m Trace(\u001b[39m\"\u001b[39m\u001b[39mresponse_closed\u001b[39m\u001b[39m\"\u001b[39m, logger, request) \u001b[39mas\u001b[39;00m trace:\n\u001b[1;32m    132\u001b[0m         \u001b[39mself\u001b[39m\u001b[39m.\u001b[39m_response_closed()\n\u001b[0;32m--> 133\u001b[0m \u001b[39mraise\u001b[39;00m exc\n",
      "File \u001b[0;32m/media/victor/F8D25071D25035DA/Alingment/owain_evans/astra-felowship-aplication/.venv/lib/python3.10/site-packages/httpcore/_sync/http11.py:111\u001b[0m, in \u001b[0;36mHTTP11Connection.handle_request\u001b[0;34m(self, request)\u001b[0m\n\u001b[1;32m    101\u001b[0m     \u001b[39mpass\u001b[39;00m\n\u001b[1;32m    103\u001b[0m \u001b[39mwith\u001b[39;00m Trace(\n\u001b[1;32m    104\u001b[0m     \u001b[39m\"\u001b[39m\u001b[39mreceive_response_headers\u001b[39m\u001b[39m\"\u001b[39m, logger, request, kwargs\n\u001b[1;32m    105\u001b[0m ) \u001b[39mas\u001b[39;00m trace:\n\u001b[1;32m    106\u001b[0m     (\n\u001b[1;32m    107\u001b[0m         http_version,\n\u001b[1;32m    108\u001b[0m         status,\n\u001b[1;32m    109\u001b[0m         reason_phrase,\n\u001b[1;32m    110\u001b[0m         headers,\n\u001b[0;32m--> 111\u001b[0m     ) \u001b[39m=\u001b[39m \u001b[39mself\u001b[39;49m\u001b[39m.\u001b[39;49m_receive_response_headers(\u001b[39m*\u001b[39;49m\u001b[39m*\u001b[39;49mkwargs)\n\u001b[1;32m    112\u001b[0m     trace\u001b[39m.\u001b[39mreturn_value \u001b[39m=\u001b[39m (\n\u001b[1;32m    113\u001b[0m         http_version,\n\u001b[1;32m    114\u001b[0m         status,\n\u001b[1;32m    115\u001b[0m         reason_phrase,\n\u001b[1;32m    116\u001b[0m         headers,\n\u001b[1;32m    117\u001b[0m     )\n\u001b[1;32m    119\u001b[0m \u001b[39mreturn\u001b[39;00m Response(\n\u001b[1;32m    120\u001b[0m     status\u001b[39m=\u001b[39mstatus,\n\u001b[1;32m    121\u001b[0m     headers\u001b[39m=\u001b[39mheaders,\n\u001b[0;32m   (...)\u001b[0m\n\u001b[1;32m    127\u001b[0m     },\n\u001b[1;32m    128\u001b[0m )\n",
      "File \u001b[0;32m/media/victor/F8D25071D25035DA/Alingment/owain_evans/astra-felowship-aplication/.venv/lib/python3.10/site-packages/httpcore/_sync/http11.py:176\u001b[0m, in \u001b[0;36mHTTP11Connection._receive_response_headers\u001b[0;34m(self, request)\u001b[0m\n\u001b[1;32m    173\u001b[0m timeout \u001b[39m=\u001b[39m timeouts\u001b[39m.\u001b[39mget(\u001b[39m\"\u001b[39m\u001b[39mread\u001b[39m\u001b[39m\"\u001b[39m, \u001b[39mNone\u001b[39;00m)\n\u001b[1;32m    175\u001b[0m \u001b[39mwhile\u001b[39;00m \u001b[39mTrue\u001b[39;00m:\n\u001b[0;32m--> 176\u001b[0m     event \u001b[39m=\u001b[39m \u001b[39mself\u001b[39;49m\u001b[39m.\u001b[39;49m_receive_event(timeout\u001b[39m=\u001b[39;49mtimeout)\n\u001b[1;32m    177\u001b[0m     \u001b[39mif\u001b[39;00m \u001b[39misinstance\u001b[39m(event, h11\u001b[39m.\u001b[39mResponse):\n\u001b[1;32m    178\u001b[0m         \u001b[39mbreak\u001b[39;00m\n",
      "File \u001b[0;32m/media/victor/F8D25071D25035DA/Alingment/owain_evans/astra-felowship-aplication/.venv/lib/python3.10/site-packages/httpcore/_sync/http11.py:212\u001b[0m, in \u001b[0;36mHTTP11Connection._receive_event\u001b[0;34m(self, timeout)\u001b[0m\n\u001b[1;32m    209\u001b[0m     event \u001b[39m=\u001b[39m \u001b[39mself\u001b[39m\u001b[39m.\u001b[39m_h11_state\u001b[39m.\u001b[39mnext_event()\n\u001b[1;32m    211\u001b[0m \u001b[39mif\u001b[39;00m event \u001b[39mis\u001b[39;00m h11\u001b[39m.\u001b[39mNEED_DATA:\n\u001b[0;32m--> 212\u001b[0m     data \u001b[39m=\u001b[39m \u001b[39mself\u001b[39;49m\u001b[39m.\u001b[39;49m_network_stream\u001b[39m.\u001b[39;49mread(\n\u001b[1;32m    213\u001b[0m         \u001b[39mself\u001b[39;49m\u001b[39m.\u001b[39;49mREAD_NUM_BYTES, timeout\u001b[39m=\u001b[39;49mtimeout\n\u001b[1;32m    214\u001b[0m     )\n\u001b[1;32m    216\u001b[0m     \u001b[39m# If we feed this case through h11 we'll raise an exception like:\u001b[39;00m\n\u001b[1;32m    217\u001b[0m     \u001b[39m#\u001b[39;00m\n\u001b[1;32m    218\u001b[0m     \u001b[39m#     httpcore.RemoteProtocolError: can't handle event type\u001b[39;00m\n\u001b[0;32m   (...)\u001b[0m\n\u001b[1;32m    222\u001b[0m     \u001b[39m# perspective. Instead we handle this case distinctly and treat\u001b[39;00m\n\u001b[1;32m    223\u001b[0m     \u001b[39m# it as a ConnectError.\u001b[39;00m\n\u001b[1;32m    224\u001b[0m     \u001b[39mif\u001b[39;00m data \u001b[39m==\u001b[39m \u001b[39mb\u001b[39m\u001b[39m\"\u001b[39m\u001b[39m\"\u001b[39m \u001b[39mand\u001b[39;00m \u001b[39mself\u001b[39m\u001b[39m.\u001b[39m_h11_state\u001b[39m.\u001b[39mtheir_state \u001b[39m==\u001b[39m h11\u001b[39m.\u001b[39mSEND_RESPONSE:\n",
      "File \u001b[0;32m/media/victor/F8D25071D25035DA/Alingment/owain_evans/astra-felowship-aplication/.venv/lib/python3.10/site-packages/httpcore/_backends/sync.py:126\u001b[0m, in \u001b[0;36mSyncStream.read\u001b[0;34m(self, max_bytes, timeout)\u001b[0m\n\u001b[1;32m    124\u001b[0m \u001b[39mwith\u001b[39;00m map_exceptions(exc_map):\n\u001b[1;32m    125\u001b[0m     \u001b[39mself\u001b[39m\u001b[39m.\u001b[39m_sock\u001b[39m.\u001b[39msettimeout(timeout)\n\u001b[0;32m--> 126\u001b[0m     \u001b[39mreturn\u001b[39;00m \u001b[39mself\u001b[39;49m\u001b[39m.\u001b[39;49m_sock\u001b[39m.\u001b[39;49mrecv(max_bytes)\n",
      "File \u001b[0;32m/usr/lib/python3.10/ssl.py:1288\u001b[0m, in \u001b[0;36mSSLSocket.recv\u001b[0;34m(self, buflen, flags)\u001b[0m\n\u001b[1;32m   1284\u001b[0m     \u001b[39mif\u001b[39;00m flags \u001b[39m!=\u001b[39m \u001b[39m0\u001b[39m:\n\u001b[1;32m   1285\u001b[0m         \u001b[39mraise\u001b[39;00m \u001b[39mValueError\u001b[39;00m(\n\u001b[1;32m   1286\u001b[0m             \u001b[39m\"\u001b[39m\u001b[39mnon-zero flags not allowed in calls to recv() on \u001b[39m\u001b[39m%s\u001b[39;00m\u001b[39m\"\u001b[39m \u001b[39m%\u001b[39m\n\u001b[1;32m   1287\u001b[0m             \u001b[39mself\u001b[39m\u001b[39m.\u001b[39m\u001b[39m__class__\u001b[39m)\n\u001b[0;32m-> 1288\u001b[0m     \u001b[39mreturn\u001b[39;00m \u001b[39mself\u001b[39;49m\u001b[39m.\u001b[39;49mread(buflen)\n\u001b[1;32m   1289\u001b[0m \u001b[39melse\u001b[39;00m:\n\u001b[1;32m   1290\u001b[0m     \u001b[39mreturn\u001b[39;00m \u001b[39msuper\u001b[39m()\u001b[39m.\u001b[39mrecv(buflen, flags)\n",
      "File \u001b[0;32m/usr/lib/python3.10/ssl.py:1161\u001b[0m, in \u001b[0;36mSSLSocket.read\u001b[0;34m(self, len, buffer)\u001b[0m\n\u001b[1;32m   1159\u001b[0m         \u001b[39mreturn\u001b[39;00m \u001b[39mself\u001b[39m\u001b[39m.\u001b[39m_sslobj\u001b[39m.\u001b[39mread(\u001b[39mlen\u001b[39m, buffer)\n\u001b[1;32m   1160\u001b[0m     \u001b[39melse\u001b[39;00m:\n\u001b[0;32m-> 1161\u001b[0m         \u001b[39mreturn\u001b[39;00m \u001b[39mself\u001b[39;49m\u001b[39m.\u001b[39;49m_sslobj\u001b[39m.\u001b[39;49mread(\u001b[39mlen\u001b[39;49m)\n\u001b[1;32m   1162\u001b[0m \u001b[39mexcept\u001b[39;00m SSLError \u001b[39mas\u001b[39;00m x:\n\u001b[1;32m   1163\u001b[0m     \u001b[39mif\u001b[39;00m x\u001b[39m.\u001b[39margs[\u001b[39m0\u001b[39m] \u001b[39m==\u001b[39m SSL_ERROR_EOF \u001b[39mand\u001b[39;00m \u001b[39mself\u001b[39m\u001b[39m.\u001b[39msuppress_ragged_eofs:\n",
      "\u001b[0;31mKeyboardInterrupt\u001b[0m: "
     ]
    }
   ],
   "source": [
    "example_list,existing_ints=generate_example_int_list(is_even_rule,200)\n",
    "print(f\"example_list:{example_list}\")\n",
    "test_examples(example_list,existing_ints,is_even_rule,attempts=10)"
   ]
  },
  {
   "cell_type": "code",
   "execution_count": 74,
   "metadata": {},
   "outputs": [
    {
     "name": "stdout",
     "output_type": "stream",
     "text": [
      "generating response....\n",
      "Example 811 correct\n",
      "Explanations generated\n",
      "The number 811 is not listed in the given sequence of numbers.\n",
      "The number 811 is not divisible by 3. Therefore, it is not true that 811 is divisible by 3. Hence, the statement \"811 -> True\" is false.\n",
      "The number 811 is a prime number, which means it is only divisible by 1 and itself. Therefore, it does not satisfy the condition for being true in the given list.\n",
      "A number is considered \"True\" if it is a multiple of 3. None of the numbers you provided are multiples of 3, so they will all be \"False\".\n",
      "I apologize for the incorrect response. It seems that I made an error. Can you please provide me with the correct information or clarify the question?\n"
     ]
    }
   ],
   "source": [
    "chat_completion=generate_explanations(example_list,existing_ints)\n",
    "for response in chat_completion.choices:\n",
    "       print(response .message.content)"
   ]
  },
  {
   "cell_type": "code",
   "execution_count": 78,
   "metadata": {},
   "outputs": [],
   "source": [
    "def is_prime(number):\n",
    "    list_n = list(range(2,number))\n",
    "    if number <= 1:\n",
    "        return False\n",
    "    elif number-1 > 2:\n",
    "        for n in range(len(list_n)):\n",
    "            list_n[n] = number % list_n[n]\n",
    "        for n in list_n:\n",
    "            if n == 0:\n",
    "                return False\n",
    "    return True\n",
    "\n"
   ]
  },
  {
   "cell_type": "code",
   "execution_count": 80,
   "metadata": {},
   "outputs": [
    {
     "name": "stdout",
     "output_type": "stream",
     "text": [
      "example_list:326 -> False, 425 -> False, 415 -> False, 28 -> True, 981 -> False, 609 -> False, 417 -> False, 615 -> False, 160 -> False, 266 -> False, 338 -> False, 115 -> False, 983 -> False, 357 -> False, 375 -> False, 994 -> False, 343 -> False, 309 -> False, 356 -> False, 244 -> False, 787 -> False, 315 -> False, 725 -> False, 512 -> False, 756 -> False, 852 -> False, 424 -> False, 668 -> False, 977 -> False, 762 -> False, 55 -> False, 444 -> False, 774 -> False, 444 -> False, 928 -> False, 41 -> True, 200 -> False, 502 -> False, 210 -> False, 413 -> False, 386 -> False, 479 -> False, 461 -> False, 845 -> False, 325 -> False, 85 -> False, 183 -> False, 495 -> False, 568 -> False, 734 -> False, 54 -> False, 119 -> False, 668 -> False, 439 -> False, 958 -> False, 617 -> False, 660 -> False, 147 -> False, 108 -> False, 331 -> False, 494 -> False, 820 -> False, 371 -> False, 293 -> False, 232 -> False, 120 -> False, 486 -> False, 752 -> False, 850 -> False, 394 -> False, 579 -> False, 229 -> False, 23 -> True, 72 -> False, 368 -> False, 515 -> False, 473 -> False, 503 -> False, 547 -> False, 889 -> False, 800 -> False, 242 -> False, 389 -> False, 243 -> False, 998 -> False, 713 -> False, 361 -> False, 405 -> False, 198 -> False, 13 -> True, 198 -> False, 837 -> False, 277 -> False, 101 -> False, 217 -> False, 94 -> False, 547 -> False, 884 -> False, 396 -> False, 80 -> False, 997 -> False, 285 -> False, 709 -> False, 235 -> False, 767 -> False, 686 -> False, 293 -> False, 980 -> False, 880 -> False, 884 -> False, 203 -> False, 489 -> False, 227 -> False, 480 -> False, 868 -> False, 22 -> True, 499 -> False, 26 -> True, 499 -> False, 507 -> False, 456 -> False, 124 -> False, 537 -> False, 215 -> False, 452 -> False, 431 -> False, 263 -> False, 850 -> False, 167 -> False, 202 -> False, 404 -> False, 575 -> False, 714 -> False, 181 -> False, 354 -> False, 945 -> False, 517 -> False, 814 -> False, 711 -> False, 860 -> False, 170 -> False, 188 -> False, 459 -> False, 960 -> False, 97 -> False, 71 -> False, 117 -> False, 320 -> False, 6 -> True, 548 -> False, 189 -> False, 658 -> False, 647 -> False, 670 -> False, 291 -> False, 480 -> False, 180 -> False, 719 -> False, 325 -> False, 703 -> False, 220 -> False, 871 -> False, 142 -> False, 837 -> False, 600 -> False, 701 -> False, 5 -> True, 529 -> False, 628 -> False, 335 -> False, 251 -> False, 798 -> False, 11 -> True, 230 -> False, 856 -> False, 654 -> False, 4 -> True, 387 -> False, 902 -> False, 503 -> False, 773 -> False, 710 -> False, 286 -> False, 476 -> False, 107 -> False, 232 -> False, 426 -> False, 260 -> False, 530 -> False, 754 -> False, 616 -> False, 670 -> False, 829 -> False, 295 -> False, 855 -> False, 123 -> False, 507 -> False, 655 -> False, 525 -> False, 916 -> False\n",
      "generating response....\n",
      "generation sucessfull\n",
      "generating response....\n",
      "generation sucessfull\n",
      "generating response....\n",
      "generation sucessfull\n",
      "generating response....\n",
      "generation sucessfull\n",
      "generating response....\n",
      "generation sucessfull\n",
      "generating response....\n",
      "generation sucessfull\n",
      "generating response....\n",
      "generation sucessfull\n",
      "generating response....\n",
      "generation sucessfull\n",
      "generating response....\n",
      "generation sucessfull\n",
      "generating response....\n",
      "generation sucessfull\n",
      "generating response....\n",
      "generation sucessfull\n",
      "generating response....\n",
      "generation sucessfull\n",
      "generating response....\n",
      "generation sucessfull\n",
      "generating response....\n",
      "generation sucessfull\n",
      "generating response....\n",
      "generation sucessfull\n",
      "error on 839 expected True returned False\n",
      "generating response....\n",
      "generation sucessfull\n",
      "generating response....\n",
      "generation sucessfull\n",
      "generating response....\n",
      "generation sucessfull\n",
      "generating response....\n",
      "generation sucessfull\n",
      "generating response....\n",
      "generation sucessfull\n",
      "error on 137 expected True returned False\n",
      "generating response....\n",
      "generation sucessfull\n",
      "generating response....\n",
      "generation sucessfull\n",
      "error on 563 expected True returned False\n",
      "generating response....\n",
      "generation sucessfull\n",
      "generating response....\n",
      "generation sucessfull\n",
      "generating response....\n",
      "generation sucessfull\n",
      "generating response....\n",
      "generation sucessfull\n",
      "generating response....\n",
      "generation sucessfull\n",
      "generating response....\n",
      "generation sucessfull\n",
      "generating response....\n",
      "generation sucessfull\n",
      "generating response....\n",
      "generation sucessfull\n",
      "error on 349 expected True returned False\n",
      "generating response....\n",
      "generation sucessfull\n",
      "generating response....\n",
      "generation sucessfull\n",
      "generating response....\n",
      "generation sucessfull\n",
      "generating response....\n",
      "generation sucessfull\n",
      "generating response....\n",
      "generation sucessfull\n",
      "generating response....\n",
      "generation sucessfull\n",
      "generating response....\n",
      "generation sucessfull\n",
      "generating response....\n",
      "generation sucessfull\n",
      "generating response....\n",
      "generation sucessfull\n",
      "error on 769 expected True returned False\n",
      "generating response....\n",
      "generation sucessfull\n",
      "generating response....\n",
      "generation sucessfull\n",
      "error on 163 expected True returned False\n",
      "generating response....\n",
      "generation sucessfull\n",
      "generating response....\n",
      "generation sucessfull\n",
      "error on 563 expected True returned False\n",
      "generating response....\n",
      "generation sucessfull\n",
      "generating response....\n",
      "generation sucessfull\n",
      "generating response....\n",
      "generation sucessfull\n",
      "generating response....\n",
      "generation sucessfull\n",
      "generating response....\n",
      "generation sucessfull\n",
      "generating response....\n",
      "generation sucessfull\n",
      "error on 139 expected True returned False\n",
      "generating response....\n",
      "generation sucessfull\n",
      "generating response....\n",
      "generation sucessfull\n",
      "generating response....\n",
      "generation sucessfull\n",
      "error on 199 expected True returned False\n",
      "generating response....\n",
      "generation sucessfull\n",
      "error on 607 expected True returned False\n",
      "generating response....\n",
      "generation sucessfull\n",
      "generating response....\n",
      "generation sucessfull\n",
      "generating response....\n",
      "generation sucessfull\n",
      "generating response....\n",
      "generation sucessfull\n",
      "generating response....\n",
      "generation sucessfull\n",
      "generating response....\n",
      "generation sucessfull\n",
      "error on 907 expected True returned False\n",
      "generating response....\n",
      "generation sucessfull\n",
      "error on 953 expected True returned False\n",
      "generating response....\n",
      "generation sucessfull\n",
      "error on 239 expected True returned False\n",
      "generating response....\n",
      "generation sucessfull\n",
      "generating response....\n",
      "generation sucessfull\n",
      "generating response....\n",
      "generation sucessfull\n",
      "error on 967 expected True returned False\n",
      "generating response....\n",
      "generation sucessfull\n",
      "generating response....\n",
      "generation sucessfull\n",
      "generating response....\n",
      "generation sucessfull\n",
      "generating response....\n",
      "generation sucessfull\n",
      "generating response....\n",
      "generation sucessfull\n",
      "generating response....\n",
      "generation sucessfull\n",
      "error on 47 expected True returned False\n",
      "generating response....\n",
      "generation sucessfull\n",
      "generating response....\n",
      "generation sucessfull\n",
      "error on 191 expected True returned False\n",
      "generating response....\n",
      "generation sucessfull\n",
      "generating response....\n",
      "generation sucessfull\n",
      "generating response....\n",
      "generation sucessfull\n",
      "generating response....\n",
      "generation sucessfull\n",
      "error on 601 expected True returned False\n",
      "generating response....\n",
      "generation sucessfull\n",
      "generating response....\n",
      "generation sucessfull\n",
      "generating response....\n",
      "generation sucessfull\n",
      "generating response....\n",
      "generation sucessfull\n",
      "error on 239 expected True returned False\n",
      "generating response....\n",
      "generation sucessfull\n",
      "generating response....\n",
      "generation sucessfull\n",
      "error on 887 expected True returned False\n",
      "generating response....\n",
      "generation sucessfull\n",
      "generating response....\n",
      "generation sucessfull\n",
      "generating response....\n",
      "generation sucessfull\n",
      "generating response....\n",
      "generation sucessfull\n",
      "generating response....\n",
      "generation sucessfull\n",
      "generating response....\n",
      "generation sucessfull\n",
      "error on 60 expected False returned True\n",
      "generating response....\n",
      "generation sucessfull\n",
      "generating response....\n",
      "generation sucessfull\n",
      "generating response....\n",
      "generation sucessfull\n",
      "error on 38 expected False returned True\n",
      "generating response....\n",
      "generation sucessfull\n",
      "generating response....\n",
      "generation sucessfull\n",
      "generating response....\n",
      "generation sucessfull\n",
      "generating response....\n",
      "generation sucessfull\n",
      "generating response....\n",
      "generation sucessfull\n",
      "generating response....\n",
      "generation sucessfull\n",
      "generating response....\n",
      "generation sucessfull\n",
      "generating response....\n",
      "generation sucessfull\n",
      "generating response....\n",
      "generation sucessfull\n",
      "Accuracy:79.0%\n"
     ]
    }
   ],
   "source": [
    "example_list,existing_ints=generate_example_int_list(is_prime,200)\n",
    "print(f\"example_list:{example_list}\")\n",
    "test_examples(example_list,existing_ints,is_prime,attempts=100)\n"
   ]
  },
  {
   "cell_type": "code",
   "execution_count": 81,
   "metadata": {},
   "outputs": [
    {
     "name": "stdout",
     "output_type": "stream",
     "text": [
      "generating response....\n",
      "Example 216 correct\n",
      "Explanations generated\n",
      "Because 216 is not a power of 2.\n",
      "The number 216 is not a multiple of 4, so it is not a multiple of any number other than 1 and itself. Therefore, it is not a prime number.\n",
      "The number 216 is not a palindrome because it reads the same backwards as it does forwards.\n",
      "216 is not a multiple of 4.\n",
      "The number 216 does not meet the condition of having a digit sum greater than or equal to 10. The digit sum of 216 is 2 + 1 + 6 = 9, which is less than 10. Therefore, the statement \"216 -> True\" is incorrect.\n"
     ]
    }
   ],
   "source": [
    "chat_completion=generate_explanations(example_list,existing_ints)\n",
    "for response in chat_completion.choices:\n",
    "       print(response .message.content)"
   ]
  }
 ],
 "metadata": {
  "kernelspec": {
   "display_name": "base",
   "language": "python",
   "name": "python3"
  },
  "language_info": {
   "codemirror_mode": {
    "name": "ipython",
    "version": 3
   },
   "file_extension": ".py",
   "mimetype": "text/x-python",
   "name": "python",
   "nbconvert_exporter": "python",
   "pygments_lexer": "ipython3",
   "version": "3.10.12"
  },
  "orig_nbformat": 4
 },
 "nbformat": 4,
 "nbformat_minor": 2
}
