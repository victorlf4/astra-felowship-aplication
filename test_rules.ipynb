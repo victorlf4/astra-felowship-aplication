{
 "cells": [
  {
   "cell_type": "code",
   "execution_count": 2,
   "metadata": {},
   "outputs": [],
   "source": [
    "import openai\n",
    "from collections import defaultdict\n",
    "from itertools import zip_longest\n",
    "import re\n",
    "import random\n",
    "import matplotlib.pyplot as plt"
   ]
  },
  {
   "cell_type": "code",
   "execution_count": 4,
   "metadata": {},
   "outputs": [],
   "source": [
    "with open('openAI.key', 'r') as file:\n",
    "    openAI_key = file.read()"
   ]
  },
  {
   "cell_type": "code",
   "execution_count": 5,
   "metadata": {},
   "outputs": [],
   "source": [
    "from openai import OpenAI\n",
    "openai.api_key = \"\"#todo remove or make it read from a doc that I dont submit.\n",
    "client = OpenAI(\n",
    "    api_key=openAI_key,\n",
    ")"
   ]
  },
  {
   "cell_type": "code",
   "execution_count": 15,
   "metadata": {},
   "outputs": [],
   "source": [
    "model=\"gpt-3.5-turbo\"#using this one cause gpt4 is expensive."
   ]
  },
  {
   "cell_type": "code",
   "execution_count": 6,
   "metadata": {},
   "outputs": [],
   "source": [
    "def lower_than_rule(number):\n",
    "    return number < 50\n"
   ]
  },
  {
   "cell_type": "code",
   "execution_count": 35,
   "metadata": {},
   "outputs": [],
   "source": [
    "def generate_example_int_list(rule,size=20):\n",
    "    random_integer_list = []\n",
    "    for i in range(size):\n",
    "        random_integer_list.append(random.randint(1, 100))\n",
    "\n",
    "    example_list=\"\"\n",
    "    for number in random_integer_list:\n",
    "        if example_list !=\"\":\n",
    "            example_list+=\", \"\n",
    "        rule_value= lower_than_rule(number)\n",
    "        example_list+=(f\"{number} -> {rule_value}\")\n",
    "    return example_list,random_integer_list"
   ]
  },
  {
   "cell_type": "code",
   "execution_count": 32,
   "metadata": {},
   "outputs": [],
   "source": [
    "def generate_prompt(rule,example_list,excluded_ints):\n",
    "    all_integers = list(range(1, 101))\n",
    "    valid_integers = [x for x in all_integers if x not in excluded_ints]\n",
    "    test_number= random.choice(valid_integers)\n",
    "    test_number_rule_value=rule(test_number)\n",
    "    prompt =example_list+f\", {test_number}->\"\n",
    "    return prompt,test_number,test_number_rule_value\n",
    "\n",
    "\n",
    "    \n"
   ]
  },
  {
   "cell_type": "code",
   "execution_count": 42,
   "metadata": {},
   "outputs": [],
   "source": [
    "def test_examples(example_list,existing_ints,rule,attempts=10):\n",
    "    correct_counter=0\n",
    "    for i in range(attempts):\n",
    "        prompt,test_number,test_number_rule_value=generate_prompt(rule,example_list,existing_ints)\n",
    "        message={\"role\": \"user\", \"content\": prompt}\n",
    "        print(\"generating response....\")\n",
    "        chat_completion = client.chat.completions.create(model=model, temperature=1, messages=[message],max_tokens=1)\n",
    "        print(\"generation sucessfull\")\n",
    "        response = chat_completion.choices[0].message.content\n",
    "        if response == str(test_number_rule_value):#might fail due to tokenization weirdness but seems to work well enough\n",
    "            correct_counter+=1 \n",
    "        else:\n",
    "            print(f\"error on {test_number} expected {test_number_rule_value} returned {response}\")\n",
    "            \n",
    "                \n",
    "    print(f\"Accuracy:{(correct_counter/attempts)*100}%\")      "
   ]
  },
  {
   "cell_type": "code",
   "execution_count": 54,
   "metadata": {},
   "outputs": [],
   "source": [
    "def generate_explanations(example_list,existing_ints,n_completions=5):\n",
    "    prompt,test_number,test_number_rule_value=generate_prompt(lower_than_rule,example_list,existing_ints)\n",
    "    test_mesage={\"role\": \"user\", \"content\":prompt}\n",
    "    print(\"generating response....\")\n",
    "    chat_completion = client.chat.completions.create(model=model, temperature=1, messages=[test_mesage],max_tokens=1)\n",
    "    response = chat_completion.choices[0].message.content\n",
    "    if response == str(test_number_rule_value):#might fail due to tokenization weirdness but seems to work well enough\n",
    "        print(f\"Example {test_number} correct\")\n",
    "    else:\n",
    "        print(f\"Error on {test_number} expected {test_number_rule_value} returned {response}\")\n",
    "\n",
    "    model_response={\"role\": \"assistant\", \"content\":response}\n",
    "    articulation_question={\"role\": \"user\", \"content\":\"why?\" }\n",
    "\n",
    "    chat_completion = client.chat.completions.create(model=model, temperature=1, messages=[test_mesage,model_response,articulation_question],max_tokens=200,n=n_completions)\n",
    "    print(\"Explanations generated\")\n",
    "    return chat_completion"
   ]
  },
  {
   "cell_type": "code",
   "execution_count": 36,
   "metadata": {},
   "outputs": [
    {
     "name": "stdout",
     "output_type": "stream",
     "text": [
      "example_list:63 -> False, 97 -> False, 80 -> False, 93 -> False, 29 -> True, 93 -> False, 74 -> False, 98 -> False, 10 -> True, 10 -> True, 88 -> False, 17 -> True, 85 -> False, 38 -> True, 21 -> True, 53 -> False, 75 -> False, 46 -> True, 26 -> True, 47 -> True, 85 -> False, 36 -> True, 77 -> False, 34 -> True, 41 -> True, 44 -> True, 14 -> True, 58 -> False, 44 -> True, 59 -> False, 18 -> True, 85 -> False, 45 -> True, 79 -> False, 49 -> True, 6 -> True, 29 -> True, 44 -> True, 22 -> True, 1 -> True\n"
     ]
    }
   ],
   "source": [
    "example_list,existing_ints=generate_example_int_list(lower_than_rule,40)\n",
    "print(f\"example_list:{example_list}\")\n"
   ]
  },
  {
   "cell_type": "code",
   "execution_count": 49,
   "metadata": {},
   "outputs": [
    {
     "name": "stdout",
     "output_type": "stream",
     "text": [
      "generating response....\n",
      "generation sucessfull\n",
      "error on 30 expected True returned False\n",
      "generating response....\n",
      "generation sucessfull\n",
      "generating response....\n",
      "generation sucessfull\n",
      "generating response....\n",
      "generation sucessfull\n",
      "generating response....\n",
      "generation sucessfull\n",
      "generating response....\n",
      "generation sucessfull\n",
      "generating response....\n",
      "generation sucessfull\n",
      "generating response....\n",
      "generation sucessfull\n",
      "generating response....\n",
      "generation sucessfull\n",
      "generating response....\n",
      "generation sucessfull\n",
      "Accuracy:90.0%\n"
     ]
    }
   ],
   "source": [
    "test_examples(example_list,existing_ints,lower_than_rule,attempts=10)"
   ]
  },
  {
   "cell_type": "code",
   "execution_count": 45,
   "metadata": {},
   "outputs": [
    {
     "name": "stdout",
     "output_type": "stream",
     "text": [
      "example_list:1 -> True, 20 -> True, 4 -> True, 28 -> True, 48 -> True, 41 -> True, 37 -> True, 11 -> True, 82 -> False, 12 -> True, 1 -> True, 52 -> False, 78 -> False, 78 -> False, 23 -> True, 88 -> False, 4 -> True, 1 -> True, 12 -> True, 47 -> True, 61 -> False, 29 -> True, 19 -> True, 98 -> False, 35 -> True, 10 -> True, 97 -> False, 67 -> False, 28 -> True, 31 -> True, 19 -> True, 86 -> False, 64 -> False, 11 -> True, 19 -> True, 70 -> False, 87 -> False, 22 -> True, 37 -> True, 3 -> True\n"
     ]
    }
   ],
   "source": [
    "example_list,random_integer_list=generate_example_int_list(lower_than_rule,40)\n",
    "print(f\"example_list:{example_list}\")"
   ]
  },
  {
   "cell_type": "code",
   "execution_count": null,
   "metadata": {},
   "outputs": [],
   "source": [
    "generate_explanations(example_list,existing_ints)"
   ]
  },
  {
   "cell_type": "code",
   "execution_count": 53,
   "metadata": {},
   "outputs": [
    {
     "name": "stdout",
     "output_type": "stream",
     "text": [
      "I apologize for the mistake. I made an error in my response. The correct response to \"69\" should be False, not True. Thank you for pointing out the mistake.\n",
      "Apologies for the mistake in my previous response. The correct answer is as follows:\n",
      "\n",
      "69 -> False\n",
      "\n",
      "The number 69 is not divisible by 3.\n",
      "I apologize for the wrong answer. The correct answer for 69 is True. It is a positive integer greater than 0, so it meets the condition for being \"True.\"\n",
      "I apologize for the confusion. Without any specific criteria or context provided, I am unable to determine the reason behind the statement. Could you please provide more information or clarify the question?\n",
      "Because in the given sequence, all the numbers except for 82, 52, 78, 88, 61, 98, 97, 67, 86, 64, 70, 87, and 69 are true.\n"
     ]
    }
   ],
   "source": [
    "for response in chat_completion.choices:\n",
    "       print(response .message.content)"
   ]
  }
 ],
 "metadata": {
  "kernelspec": {
   "display_name": "base",
   "language": "python",
   "name": "python3"
  },
  "language_info": {
   "codemirror_mode": {
    "name": "ipython",
    "version": 3
   },
   "file_extension": ".py",
   "mimetype": "text/x-python",
   "name": "python",
   "nbconvert_exporter": "python",
   "pygments_lexer": "ipython3",
   "version": "3.10.12"
  },
  "orig_nbformat": 4
 },
 "nbformat": 4,
 "nbformat_minor": 2
}
