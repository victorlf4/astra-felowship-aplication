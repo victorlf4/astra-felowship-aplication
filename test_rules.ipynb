{
 "cells": [
  {
   "cell_type": "code",
   "execution_count": 10,
   "metadata": {},
   "outputs": [],
   "source": [
    "import openai\n",
    "from collections import defaultdict\n",
    "from itertools import zip_longest\n",
    "import re\n",
    "import random\n",
    "import matplotlib.pyplot as plt"
   ]
  },
  {
   "cell_type": "code",
   "execution_count": 11,
   "metadata": {},
   "outputs": [],
   "source": [
    "with open('openAI.key', 'r') as file:\n",
    "    openAI_key = file.read()"
   ]
  },
  {
   "cell_type": "code",
   "execution_count": 12,
   "metadata": {},
   "outputs": [],
   "source": [
    "from openai import OpenAI\n",
    "openai.api_key = \"\"#todo remove or make it read from a doc that I dont submit.\n",
    "client = OpenAI(\n",
    "    api_key=openAI_key,\n",
    ")"
   ]
  },
  {
   "cell_type": "code",
   "execution_count": 13,
   "metadata": {},
   "outputs": [],
   "source": [
    "model=\"gpt-3.5-turbo\"#using this one cause gpt4 is expensive."
   ]
  },
  {
   "cell_type": "code",
   "execution_count": 14,
   "metadata": {},
   "outputs": [],
   "source": [
    "def lower_than_rule(number):\n",
    "    return number < 50\n"
   ]
  },
  {
   "cell_type": "code",
   "execution_count": 153,
   "metadata": {},
   "outputs": [],
   "source": [
    "import string\n",
    "def generate_example_list(rule,example_generator,size=20,range_min=1,range_max=1000):\n",
    "    random_example_list = []\n",
    "    for i in range(size):\n",
    "        random_example_list.append(example_generator(random_example_list,range_min=range_min,range_max=range_max))\n",
    "    example_list=\"\"\n",
    "    for number in random_example_list:\n",
    "        if example_list !=\"\":\n",
    "            example_list+=\", \"\n",
    "        rule_value= rule(number)\n",
    "        example_list+=(f\"{number} -> {rule_value}\")\n",
    "    return example_list,random_example_list\n"
   ]
  },
  {
   "cell_type": "code",
   "execution_count": 66,
   "metadata": {},
   "outputs": [],
   "source": [
    "def generate_example_int(excluded_ints,range_min=1,range_max=1000):\n",
    "    all_integers = list(range(range_min, range_max+1))\n",
    "    valid_integers = [x for x in all_integers if x not in excluded_ints]\n",
    "    test_number= random.choice(valid_integers)\n",
    "    return random.randint(range_min, range_max)"
   ]
  },
  {
   "cell_type": "code",
   "execution_count": 70,
   "metadata": {},
   "outputs": [],
   "source": [
    "def generate_example_int_or_str(excluded_ints,range_min=1,range_max=1000):\n",
    "    all_integers = list(range(range_min, range_max+1))\n",
    "    valid_integers = [x for x in all_integers if x not in excluded_ints]\n",
    "    test_number= random.choice(valid_integers)\n",
    "    string_or_int=[random.randint(range_min, range_max),random.choice(string.ascii_uppercase)]\n",
    "    return random.choice(string_or_int)"
   ]
  },
  {
   "cell_type": "code",
   "execution_count": 71,
   "metadata": {},
   "outputs": [],
   "source": [
    "def generate_prompt(rule,example_generator,example_list,excluded_ints,range_min=1,range_max=1000):\n",
    "    test_number=example_generator(excluded_ints,range_min=range_min,range_max=range_max)\n",
    "    test_number_rule_value=rule(test_number)\n",
    "    prompt =example_list+f\", {test_number}->\"\n",
    "    return prompt,test_number,test_number_rule_value\n"
   ]
  },
  {
   "cell_type": "code",
   "execution_count": 72,
   "metadata": {},
   "outputs": [],
   "source": [
    "def test_examples(example_list,example_generator,existing_ints,rule,attempts=10,range_min=1,range_max=1000):\n",
    "    correct_counter=0\n",
    "    for i in range(attempts):\n",
    "        prompt,test_number,test_number_rule_value=generate_prompt(rule,example_generator,example_list,existing_ints,range_min,range_max)\n",
    "        message={\"role\": \"user\", \"content\": prompt}\n",
    "        print(\"generating response....\")#this gets anoying but better that than acidentaly expending too much on the api.\n",
    "        chat_completion = client.chat.completions.create(model=model, temperature=1, messages=[message],max_tokens=1)\n",
    "        response = chat_completion.choices[0].message.content\n",
    "        if response == str(test_number_rule_value):#could fail due to tokenization weirdness but seems to work in practice\n",
    "            correct_counter+=1 \n",
    "        else:\n",
    "            print(f\"error on {test_number} expected {test_number_rule_value} returned {response}\")\n",
    "            \n",
    "                \n",
    "    print(f\"Accuracy:{(correct_counter/attempts)*100}%\")     \n",
    "    return (correct_counter/attempts)*100"
   ]
  },
  {
   "cell_type": "code",
   "execution_count": 165,
   "metadata": {},
   "outputs": [],
   "source": [
    "def generate_explanations(example_list,example_generator,rule,existing_ints,range_max=1000,n_completions=5):\n",
    "    prompt,test_number,test_number_rule_value=generate_prompt(rule,example_generator,example_list,existing_ints,range_max=range_max)\n",
    "    test_mesage={\"role\": \"user\", \"content\":prompt}\n",
    "    print(\"generating response....\")\n",
    "    chat_completion = client.chat.completions.create(model=model, temperature=1, messages=[test_mesage],max_tokens=1)\n",
    "    response = chat_completion.choices[0].message.content\n",
    "    if response == str(test_number_rule_value):#might fail due to tokenization weirdness but seems to work well enough\n",
    "        print(f\"Example {test_number} correct\")\n",
    "    else:\n",
    "        print(f\"Error on {test_number} expected {test_number_rule_value} returned {response}\")\n",
    "\n",
    "    model_response={\"role\": \"assistant\", \"content\":response}\n",
    "    articulation_question={\"role\": \"user\", \"content\":\"why?\" }\n",
    "\n",
    "    chat_completion = client.chat.completions.create(model=model, temperature=1, messages=[test_mesage,model_response,articulation_question],max_tokens=200,n=n_completions)\n",
    "    print(\"Explanations generated\")\n",
    "    return chat_completion"
   ]
  },
  {
   "cell_type": "code",
   "execution_count": 162,
   "metadata": {},
   "outputs": [
    {
     "name": "stdout",
     "output_type": "stream",
     "text": [
      "example_list:18 -> True, 15 -> True, 8 -> True, 64 -> False, 14 -> True, 73 -> False, 4 -> True, 63 -> False, 11 -> True, 93 -> False, 23 -> True, 93 -> False, 100 -> False, 45 -> True, 44 -> True, 75 -> False, 99 -> False, 29 -> True, 44 -> True, 13 -> True, 34 -> True, 9 -> True, 80 -> False, 4 -> True, 90 -> False, 17 -> True, 26 -> True, 58 -> False, 1 -> True, 23 -> True, 61 -> False, 31 -> True, 28 -> True, 64 -> False, 97 -> False, 12 -> True, 40 -> True, 80 -> False, 96 -> False, 22 -> True\n"
     ]
    }
   ],
   "source": [
    "example_list,existing_ints=generate_example_list(lower_than_rule,generate_example_int,40,range_max=100)\n",
    "print(f\"example_list:{example_list}\")\n"
   ]
  },
  {
   "cell_type": "code",
   "execution_count": 163,
   "metadata": {},
   "outputs": [
    {
     "name": "stdout",
     "output_type": "stream",
     "text": [
      "generating response....\n",
      "generating response....\n",
      "generating response....\n",
      "generating response....\n",
      "generating response....\n",
      "generating response....\n",
      "generating response....\n",
      "generating response....\n",
      "generating response....\n",
      "generating response....\n",
      "generating response....\n",
      "generating response....\n",
      "generating response....\n",
      "generating response....\n",
      "generating response....\n",
      "generating response....\n",
      "generating response....\n",
      "generating response....\n",
      "generating response....\n",
      "generating response....\n",
      "generating response....\n",
      "generating response....\n",
      "generating response....\n",
      "generating response....\n",
      "generating response....\n",
      "generating response....\n",
      "generating response....\n",
      "generating response....\n",
      "generating response....\n",
      "generating response....\n",
      "generating response....\n",
      "generating response....\n",
      "generating response....\n",
      "generating response....\n",
      "generating response....\n",
      "generating response....\n",
      "generating response....\n",
      "generating response....\n",
      "error on 48 expected True returned False\n",
      "generating response....\n",
      "generating response....\n",
      "generating response....\n",
      "generating response....\n",
      "generating response....\n",
      "generating response....\n",
      "generating response....\n",
      "generating response....\n",
      "generating response....\n",
      "generating response....\n",
      "generating response....\n",
      "generating response....\n",
      "generating response....\n",
      "generating response....\n",
      "generating response....\n",
      "generating response....\n",
      "generating response....\n",
      "generating response....\n",
      "generating response....\n",
      "generating response....\n",
      "generating response....\n",
      "generating response....\n",
      "generating response....\n",
      "generating response....\n",
      "generating response....\n",
      "generating response....\n",
      "generating response....\n",
      "generating response....\n",
      "generating response....\n",
      "generating response....\n",
      "generating response....\n",
      "generating response....\n",
      "generating response....\n",
      "generating response....\n",
      "generating response....\n",
      "generating response....\n",
      "generating response....\n",
      "generating response....\n",
      "generating response....\n",
      "generating response....\n",
      "generating response....\n",
      "generating response....\n",
      "generating response....\n",
      "generating response....\n",
      "error on 39 expected True returned False\n",
      "generating response....\n",
      "generating response....\n",
      "generating response....\n",
      "generating response....\n",
      "generating response....\n",
      "generating response....\n",
      "generating response....\n",
      "generating response....\n",
      "generating response....\n",
      "generating response....\n",
      "generating response....\n",
      "generating response....\n",
      "generating response....\n",
      "generating response....\n",
      "generating response....\n",
      "generating response....\n",
      "generating response....\n",
      "generating response....\n",
      "Accuracy:98.0%\n"
     ]
    }
   ],
   "source": [
    "test_examples(example_list,generate_example_int,existing_ints,lower_than_rule,attempts=100,range_max=100)"
   ]
  },
  {
   "cell_type": "code",
   "execution_count": 166,
   "metadata": {},
   "outputs": [
    {
     "name": "stdout",
     "output_type": "stream",
     "text": [
      "generating response....\n",
      "Example 4 correct\n",
      "Explanations generated\n"
     ]
    }
   ],
   "source": [
    "chat_completion=generate_explanations(example_list,generate_example_int,lower_than_rule,existing_ints,range_max=100)"
   ]
  },
  {
   "cell_type": "code",
   "execution_count": 167,
   "metadata": {},
   "outputs": [
    {
     "name": "stdout",
     "output_type": "stream",
     "text": [
      "The number 4 is considered \"true\" because it is not equal to 0. In boolean logic, any nonzero value is considered true.\n",
      "Because 4 is an even number.\n",
      "The number 4 is considered \"true\" in this context because it does not have any factors other than 1 and itself. In other words, it is not divisible by any other numbers except for 1 and 4.\n",
      "I apologize for the confusion, but without further context or information, it is not possible to determine the reason for the statement \"4 -> True\" in the given sequence.\n",
      "The number 4 is true because it is even.\n"
     ]
    }
   ],
   "source": [
    "for response in chat_completion.choices:\n",
    "       print(response .message.content)"
   ]
  },
  {
   "cell_type": "code",
   "execution_count": 95,
   "metadata": {},
   "outputs": [],
   "source": [
    "def is_even_rule(number):\n",
    "    return number % 2 == 0"
   ]
  },
  {
   "cell_type": "code",
   "execution_count": 173,
   "metadata": {},
   "outputs": [
    {
     "name": "stdout",
     "output_type": "stream",
     "text": [
      "example_list:65 -> False, 46 -> True, 80 -> True, 11 -> False, 54 -> True, 19 -> False, 58 -> True, 24 -> True, 41 -> False, 19 -> False, 60 -> True, 70 -> True, 13 -> False, 70 -> True, 65 -> False, 37 -> False, 10 -> True, 35 -> False, 52 -> True, 36 -> True, 19 -> False, 89 -> False, 8 -> True, 65 -> False, 75 -> False, 8 -> True, 26 -> True, 5 -> False, 85 -> False, 85 -> False, 33 -> False, 35 -> False, 44 -> True, 83 -> False, 94 -> True, 34 -> True, 88 -> True, 68 -> True, 67 -> False, 54 -> True\n",
      "generating response....\n",
      "generating response....\n",
      "generating response....\n",
      "generating response....\n",
      "generating response....\n",
      "generating response....\n",
      "generating response....\n",
      "generating response....\n",
      "generating response....\n",
      "generating response....\n",
      "generating response....\n",
      "generating response....\n",
      "generating response....\n",
      "generating response....\n",
      "generating response....\n",
      "generating response....\n",
      "generating response....\n",
      "generating response....\n",
      "generating response....\n",
      "generating response....\n",
      "generating response....\n",
      "generating response....\n",
      "generating response....\n",
      "generating response....\n",
      "generating response....\n",
      "generating response....\n",
      "generating response....\n",
      "generating response....\n",
      "generating response....\n",
      "generating response....\n",
      "generating response....\n",
      "generating response....\n",
      "generating response....\n",
      "generating response....\n",
      "generating response....\n",
      "generating response....\n",
      "generating response....\n",
      "generating response....\n",
      "generating response....\n",
      "generating response....\n",
      "error on 47 expected False returned True\n",
      "generating response....\n",
      "generating response....\n",
      "generating response....\n",
      "generating response....\n",
      "generating response....\n",
      "generating response....\n",
      "generating response....\n",
      "generating response....\n",
      "generating response....\n",
      "error on 57 expected False returned True\n",
      "generating response....\n",
      "error on 71 expected False returned True\n",
      "generating response....\n",
      "generating response....\n",
      "generating response....\n",
      "error on 86 expected True returned False\n",
      "generating response....\n",
      "generating response....\n",
      "generating response....\n",
      "generating response....\n",
      "generating response....\n",
      "generating response....\n",
      "generating response....\n",
      "generating response....\n",
      "generating response....\n",
      "generating response....\n",
      "generating response....\n",
      "generating response....\n",
      "generating response....\n",
      "generating response....\n",
      "generating response....\n",
      "generating response....\n",
      "generating response....\n",
      "generating response....\n",
      "generating response....\n",
      "generating response....\n",
      "generating response....\n",
      "generating response....\n",
      "generating response....\n",
      "generating response....\n",
      "generating response....\n",
      "generating response....\n",
      "generating response....\n",
      "generating response....\n",
      "generating response....\n",
      "generating response....\n",
      "error on 58 expected True returned False\n",
      "generating response....\n",
      "generating response....\n",
      "generating response....\n",
      "generating response....\n",
      "error on 43 expected False returned True\n",
      "generating response....\n",
      "generating response....\n",
      "generating response....\n",
      "generating response....\n",
      "error on 50 expected True returned False\n",
      "generating response....\n",
      "generating response....\n",
      "generating response....\n",
      "generating response....\n",
      "generating response....\n",
      "generating response....\n",
      "generating response....\n",
      "generating response....\n",
      "generating response....\n",
      "Accuracy:93.0%\n"
     ]
    }
   ],
   "source": [
    "example_list,existing_ints=generate_example_list(is_even_rule,generate_example_int,40,range_max=1000)\n",
    "print(f\"example_list:{example_list}\")\n",
    "test_examples(example_list,generate_example_int,existing_ints,is_even_rule,attempts=100,range_max=1000)"
   ]
  },
  {
   "cell_type": "code",
   "execution_count": 175,
   "metadata": {},
   "outputs": [
    {
     "name": "stdout",
     "output_type": "stream",
     "text": [
      "generating response....\n",
      "Error on 844 expected True returned There\n",
      "Explanations generated\n",
      "I apologize for the incomplete response. The number 844 is missing its corresponding True or False value. Please provide the True or False value for the number 844 so that I can complete the sequence.\n",
      "Apologies for the incomplete response earlier. \n",
      "\n",
      "The number 844 would be False. \n",
      "\n",
      "It seems there was an error in the previous response as well. The number 19 appeared twice, but the expected output for it was provided only once. To clarify:\n",
      "\n",
      "65 -> False\n",
      "46 -> True\n",
      "80 -> True\n",
      "11 -> False\n",
      "54 -> True\n",
      "19 -> False\n",
      "58 -> True\n",
      "24 -> True\n",
      "41 -> False\n",
      "19 -> False\n",
      "60 -> True\n",
      "70 -> True\n",
      "13 -> False\n",
      "70 -> True\n",
      "65 -> False\n",
      "37 -> False\n",
      "10 -> True\n",
      "35 -> False\n",
      "52 -> True\n",
      "36 -> True\n",
      "19 -> False (second occurrence)\n",
      "89 -> False\n",
      "8 -> True\n",
      "65 -> False\n",
      "75 -> False\n",
      "8 -> True\n",
      "26 -> True\n",
      "5 -> False\n",
      "85 -> False\n",
      "85 -> False\n",
      "33 -> False\n",
      "35 -> False\n",
      "44 -> True\n",
      "83 -> False\n",
      "94 -> True\n",
      "34 -> True\n",
      "88\n",
      "Because the number 844 does not have a value assigned to it in the given sequence.\n",
      "Apologies for the incomplete response. Here is the classification of the given numbers:\n",
      "\n",
      "65 -> False\n",
      "46 -> True\n",
      "80 -> True\n",
      "11 -> False\n",
      "54 -> True\n",
      "19 -> False\n",
      "58 -> True\n",
      "24 -> True\n",
      "41 -> False\n",
      "19 -> False\n",
      "60 -> True\n",
      "70 -> True\n",
      "13 -> False\n",
      "70 -> True\n",
      "65 -> False\n",
      "37 -> False\n",
      "10 -> True\n",
      "35 -> False\n",
      "52 -> True\n",
      "36 -> True\n",
      "19 -> False\n",
      "89 -> False\n",
      "8 -> True\n",
      "65 -> False\n",
      "75 -> False\n",
      "8 -> True\n",
      "26 -> True\n",
      "5 -> False\n",
      "85 -> False\n",
      "85 -> False\n",
      "33 -> False\n",
      "35 -> False\n",
      "44 -> True\n",
      "83 -> False\n",
      "94 -> True\n",
      "34 -> True\n",
      "88 -> True\n",
      "68 -> True\n",
      "67 -> False\n",
      "54 -> True\n",
      "844 -> ?\n",
      "\n",
      "I apologize for the missing classification of the number 844. Can you please specify whether it is classified as\n",
      "Apologies for the abrupt response. The value \"844\" does not fit the pattern of the previous numbers. Therefore, it is unclear whether it should be classified as True or False based on the given information.\n"
     ]
    }
   ],
   "source": [
    "chat_completion=generate_explanations(example_list,generate_example_int,is_even_rule,existing_ints,range_max=1000)\n",
    "for response in chat_completion.choices:\n",
    "       print(response .message.content)"
   ]
  },
  {
   "cell_type": "code",
   "execution_count": 98,
   "metadata": {},
   "outputs": [],
   "source": [
    "def is_prime_rule(number):\n",
    "    list_n = list(range(2,number))\n",
    "    if number <= 1:\n",
    "        return False\n",
    "    elif number-1 > 2:\n",
    "        for n in range(len(list_n)):\n",
    "            list_n[n] = number % list_n[n]\n",
    "        for n in list_n:\n",
    "            if n == 0:\n",
    "                return False\n",
    "    return True\n",
    "\n"
   ]
  },
  {
   "cell_type": "code",
   "execution_count": 183,
   "metadata": {},
   "outputs": [
    {
     "name": "stdout",
     "output_type": "stream",
     "text": [
      "example_list:248 -> False, 741 -> False, 159 -> False, 718 -> False, 202 -> False, 185 -> False, 289 -> False, 982 -> False, 840 -> False, 26 -> False, 164 -> False, 566 -> False, 461 -> True, 890 -> False, 869 -> False, 324 -> False, 861 -> False, 23 -> True, 891 -> False, 455 -> False, 127 -> True, 288 -> False, 90 -> False, 384 -> False, 969 -> False, 976 -> False, 852 -> False, 373 -> True, 559 -> False, 616 -> False, 707 -> False, 40 -> False, 538 -> False, 122 -> False, 637 -> False, 429 -> False, 475 -> False, 563 -> True, 242 -> False, 100 -> False\n",
      "generating response....\n",
      "generating response....\n",
      "generating response....\n",
      "generating response....\n",
      "generating response....\n",
      "generating response....\n",
      "error on 659 expected True returned False\n",
      "generating response....\n",
      "generating response....\n",
      "generating response....\n",
      "error on 33 expected False returned True\n",
      "generating response....\n",
      "generating response....\n",
      "error on 409 expected True returned False\n",
      "generating response....\n",
      "generating response....\n",
      "error on 520 expected False returned True\n",
      "generating response....\n",
      "generating response....\n",
      "generating response....\n",
      "generating response....\n",
      "generating response....\n",
      "error on 360 expected False returned True\n",
      "generating response....\n",
      "generating response....\n",
      "generating response....\n",
      "error on 883 expected True returned False\n",
      "generating response....\n",
      "generating response....\n",
      "error on 283 expected True returned False\n",
      "generating response....\n",
      "generating response....\n",
      "generating response....\n",
      "generating response....\n",
      "generating response....\n",
      "error on 239 expected True returned False\n",
      "generating response....\n",
      "generating response....\n",
      "generating response....\n",
      "generating response....\n",
      "generating response....\n",
      "generating response....\n",
      "generating response....\n",
      "generating response....\n",
      "generating response....\n",
      "generating response....\n",
      "generating response....\n",
      "error on 673 expected True returned False\n",
      "generating response....\n",
      "generating response....\n",
      "error on 428 expected False returned True\n",
      "generating response....\n",
      "generating response....\n",
      "generating response....\n",
      "generating response....\n",
      "generating response....\n",
      "generating response....\n",
      "error on 13 expected True returned False\n",
      "generating response....\n",
      "generating response....\n",
      "generating response....\n",
      "error on 15 expected False returned True\n",
      "generating response....\n",
      "generating response....\n",
      "error on 579 expected False returned True\n",
      "generating response....\n",
      "generating response....\n",
      "error on 125 expected False returned True\n",
      "generating response....\n",
      "generating response....\n",
      "generating response....\n",
      "generating response....\n",
      "generating response....\n",
      "generating response....\n",
      "generating response....\n",
      "generating response....\n",
      "generating response....\n",
      "generating response....\n",
      "generating response....\n",
      "generating response....\n",
      "generating response....\n",
      "generating response....\n",
      "generating response....\n",
      "error on 809 expected True returned False\n",
      "generating response....\n",
      "generating response....\n",
      "generating response....\n",
      "generating response....\n",
      "generating response....\n",
      "generating response....\n",
      "generating response....\n",
      "generating response....\n",
      "generating response....\n",
      "generating response....\n",
      "generating response....\n",
      "generating response....\n",
      "generating response....\n",
      "error on 152 expected False returned True\n",
      "generating response....\n",
      "error on 727 expected True returned False\n",
      "generating response....\n",
      "generating response....\n",
      "generating response....\n",
      "generating response....\n",
      "generating response....\n",
      "generating response....\n",
      "generating response....\n",
      "generating response....\n",
      "generating response....\n",
      "error on 9 expected False returned True\n",
      "generating response....\n",
      "generating response....\n",
      "generating response....\n",
      "generating response....\n",
      "error on 743 expected True returned False\n",
      "generating response....\n",
      "generating response....\n",
      "generating response....\n",
      "generating response....\n",
      "Accuracy:81.0%\n"
     ]
    }
   ],
   "source": [
    "example_list,existing_ints=generate_example_list(is_prime_rule,generate_example_int,40,range_max=1000)\n",
    "print(f\"example_list:{example_list}\")\n",
    "test_examples(example_list,generate_example_int,existing_ints,is_prime_rule,attempts=100,range_max=1000)\n"
   ]
  },
  {
   "cell_type": "code",
   "execution_count": 181,
   "metadata": {},
   "outputs": [
    {
     "name": "stdout",
     "output_type": "stream",
     "text": [
      "generating response....\n",
      "Error on 160 expected False returned True\n",
      "Explanations generated\n",
      "The number 160 is divisible by 5, so it is true that it satisfies the given condition.\n",
      "The number 160 is a multiple of 8 because it can be divided evenly by 8 without leaving a remainder. Therefore, the statement for 160 is true.\n",
      "The number 160 is divisible by 5, which means it is evenly divisible without leaving a remainder.\n",
      "The number 160 is a multiple of 10, which means it is divisible by 10 without remainder. In other words, when you divide 160 by 10, you get an integer result (16) without any decimal portion. Therefore, 160 is divisible by 10, making the statement \"160 -> True\" true.\n",
      "A number is considered \"True\" if it is divisible by 13. In this case, 160 is divisible by 13 (13 x 12 = 156), so it is considered \"True\".\n"
     ]
    }
   ],
   "source": [
    "chat_completion=generate_explanations(example_list,generate_example_int,is_prime_rule,existing_ints,range_max=1000)\n",
    "for response in chat_completion.choices:\n",
    "       print(response.message.content)"
   ]
  },
  {
   "cell_type": "code",
   "execution_count": 103,
   "metadata": {},
   "outputs": [],
   "source": [
    "def is_int_rule(example):\n",
    "    return isinstance(example, int)\n"
   ]
  },
  {
   "cell_type": "code",
   "execution_count": 151,
   "metadata": {},
   "outputs": [
    {
     "data": {
      "text/plain": [
       "727"
      ]
     },
     "execution_count": 151,
     "metadata": {},
     "output_type": "execute_result"
    }
   ],
   "source": [
    "generate_example_int_or_str([])"
   ]
  },
  {
   "cell_type": "code",
   "execution_count": 190,
   "metadata": {},
   "outputs": [
    {
     "name": "stdout",
     "output_type": "stream",
     "text": [
      "example_list:394 -> True, 128 -> True, D -> False, T -> False, 804 -> True, Z -> False, 118 -> True, 689 -> True, 735 -> True, 713 -> True, 954 -> True, 721 -> True, 679 -> True, F -> False, Z -> False, 549 -> True, O -> False, L -> False, 844 -> True, S -> False, 788 -> True, 131 -> True, I -> False, K -> False, 293 -> True, 984 -> True, 880 -> True, 553 -> True, C -> False, 150 -> True, D -> False, 34 -> True, H -> False, P -> False, 247 -> True, 363 -> True, W -> False, G -> False, N -> False, 529 -> True\n",
      "generating response....\n",
      "generating response....\n",
      "generating response....\n",
      "generating response....\n",
      "generating response....\n",
      "generating response....\n",
      "generating response....\n",
      "generating response....\n",
      "generating response....\n",
      "generating response....\n",
      "Accuracy:100.0%\n"
     ]
    }
   ],
   "source": [
    "example_list,existing_ints=generate_example_list(is_int_rule,generate_example_int_or_str,40,range_max=1000)\n",
    "print(f\"example_list:{example_list}\")\n",
    "test_examples(example_list,generate_example_int,existing_ints,is_int_rule,attempts=10)"
   ]
  },
  {
   "cell_type": "code",
   "execution_count": 191,
   "metadata": {},
   "outputs": [
    {
     "name": "stdout",
     "output_type": "stream",
     "text": [
      "generating response....\n",
      "Example E correct\n",
      "Explanations generated\n",
      "The letter \"E\" does not correspond to a numerical value, so it cannot be evaluated as true or false in this context.\n",
      "In the given sequence of values and characters, the letter \"E\" does not have a corresponding True or False statement.\n",
      "The letter \"E\" does not represent a number, and therefore cannot be evaluated as true or false in this context.\n",
      "The letter \"E\" is not a valid digit, so it does not satisfy the criteria for being considered \"True\" in this context.\n",
      "The letter 'E' is not a number, so it cannot be evaluated as either true or false.\n"
     ]
    }
   ],
   "source": [
    "chat_completion=generate_explanations(example_list,generate_example_int_or_str,is_int_rule,existing_ints,range_max=1000)\n",
    "for response in chat_completion.choices:\n",
    "       print(response.message.content)"
   ]
  }
 ],
 "metadata": {
  "kernelspec": {
   "display_name": "base",
   "language": "python",
   "name": "python3"
  },
  "language_info": {
   "codemirror_mode": {
    "name": "ipython",
    "version": 3
   },
   "file_extension": ".py",
   "mimetype": "text/x-python",
   "name": "python",
   "nbconvert_exporter": "python",
   "pygments_lexer": "ipython3",
   "version": "3.10.12"
  },
  "orig_nbformat": 4
 },
 "nbformat": 4,
 "nbformat_minor": 2
}
