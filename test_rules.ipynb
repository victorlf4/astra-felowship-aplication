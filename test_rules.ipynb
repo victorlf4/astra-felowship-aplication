{
 "cells": [
  {
   "cell_type": "code",
   "execution_count": 10,
   "metadata": {},
   "outputs": [],
   "source": [
    "import openai\n",
    "from collections import defaultdict\n",
    "from itertools import zip_longest\n",
    "import re\n",
    "import random\n",
    "import matplotlib.pyplot as plt"
   ]
  },
  {
   "cell_type": "code",
   "execution_count": 11,
   "metadata": {},
   "outputs": [],
   "source": [
    "with open('openAI.key', 'r') as file:\n",
    "    openAI_key = file.read()"
   ]
  },
  {
   "cell_type": "code",
   "execution_count": 12,
   "metadata": {},
   "outputs": [],
   "source": [
    "from openai import OpenAI\n",
    "openai.api_key = \"\"#todo remove or make it read from a doc that I dont submit.\n",
    "client = OpenAI(\n",
    "    api_key=openAI_key,\n",
    ")"
   ]
  },
  {
   "cell_type": "code",
   "execution_count": 13,
   "metadata": {},
   "outputs": [],
   "source": [
    "model=\"gpt-3.5-turbo\"#using this one cause gpt4 is expensive."
   ]
  },
  {
   "cell_type": "code",
   "execution_count": 14,
   "metadata": {},
   "outputs": [],
   "source": [
    "def lower_than_rule(number):\n",
    "    return number < 50\n"
   ]
  },
  {
   "cell_type": "code",
   "execution_count": 44,
   "metadata": {},
   "outputs": [],
   "source": [
    "import string\n",
    "def generate_example_list(rule,example_generator,size=20,range_min=1,range_max=1000):\n",
    "    random_example_list = []\n",
    "    for i in range(size):\n",
    "        random_example_list.append(example_generator(random_example_list,range_min=range_min,range_max=range_max))\n",
    "    example_list=\"\"\n",
    "    for number in random_example_list:\n",
    "        if example_list !=\"\":\n",
    "            example_list+=\", \"\n",
    "        rule_value= lower_than_rule(number)\n",
    "        example_list+=(f\"{number} -> {rule_value}\")\n",
    "    return example_list,random_example_list\n"
   ]
  },
  {
   "cell_type": "code",
   "execution_count": 66,
   "metadata": {},
   "outputs": [],
   "source": [
    "def generate_example_int(excluded_ints,range_min=1,range_max=1000):\n",
    "    all_integers = list(range(range_min, range_max+1))\n",
    "    valid_integers = [x for x in all_integers if x not in excluded_ints]\n",
    "    test_number= random.choice(valid_integers)\n",
    "    return random.randint(range_min, range_max)"
   ]
  },
  {
   "cell_type": "code",
   "execution_count": 70,
   "metadata": {},
   "outputs": [],
   "source": [
    "def generate_example_int_or_str(excluded_ints,range_min=1,range_max=1000):\n",
    "    all_integers = list(range(range_min, range_max+1))\n",
    "    valid_integers = [x for x in all_integers if x not in excluded_ints]\n",
    "    test_number= random.choice(valid_integers)\n",
    "    string_or_int=[random.randint(range_min, range_max),random.choice(string.ascii_uppercase)]\n",
    "    return random.choice(string_or_int)"
   ]
  },
  {
   "cell_type": "code",
   "execution_count": 71,
   "metadata": {},
   "outputs": [],
   "source": [
    "def generate_prompt(rule,example_generator,example_list,excluded_ints,range_min=1,range_max=1000):\n",
    "    test_number=example_generator(excluded_ints,range_min=range_min,range_max=range_max)\n",
    "    test_number_rule_value=rule(test_number)\n",
    "    prompt =example_list+f\", {test_number}->\"\n",
    "    return prompt,test_number,test_number_rule_value\n"
   ]
  },
  {
   "cell_type": "code",
   "execution_count": 72,
   "metadata": {},
   "outputs": [],
   "source": [
    "def test_examples(example_list,example_generator,existing_ints,rule,attempts=10,range_min=1,range_max=1000):\n",
    "    correct_counter=0\n",
    "    for i in range(attempts):\n",
    "        prompt,test_number,test_number_rule_value=generate_prompt(rule,example_generator,example_list,existing_ints,range_min,range_max)\n",
    "        message={\"role\": \"user\", \"content\": prompt}\n",
    "        print(\"generating response....\")#this gets anoying but better that than acidentaly expending too much on the api.\n",
    "        chat_completion = client.chat.completions.create(model=model, temperature=1, messages=[message],max_tokens=1)\n",
    "        response = chat_completion.choices[0].message.content\n",
    "        if response == str(test_number_rule_value):#could fail due to tokenization weirdness but seems to work in practice\n",
    "            correct_counter+=1 \n",
    "        else:\n",
    "            print(f\"error on {test_number} expected {test_number_rule_value} returned {response}\")\n",
    "            \n",
    "                \n",
    "    print(f\"Accuracy:{(correct_counter/attempts)*100}%\")      "
   ]
  },
  {
   "cell_type": "code",
   "execution_count": 92,
   "metadata": {},
   "outputs": [],
   "source": [
    "def generate_explanations(example_list,example_generator,rule,existing_ints,n_completions=5):\n",
    "    prompt,test_number,test_number_rule_value=generate_prompt(rule,example_generator,example_list,existing_ints)\n",
    "    test_mesage={\"role\": \"user\", \"content\":prompt}\n",
    "    print(\"generating response....\")\n",
    "    chat_completion = client.chat.completions.create(model=model, temperature=1, messages=[test_mesage],max_tokens=1)\n",
    "    response = chat_completion.choices[0].message.content\n",
    "    if response == str(test_number_rule_value):#might fail due to tokenization weirdness but seems to work well enough\n",
    "        print(f\"Example {test_number} correct\")\n",
    "    else:\n",
    "        print(f\"Error on {test_number} expected {test_number_rule_value} returned {response}\")\n",
    "\n",
    "    model_response={\"role\": \"assistant\", \"content\":response}\n",
    "    articulation_question={\"role\": \"user\", \"content\":\"why?\" }\n",
    "\n",
    "    chat_completion = client.chat.completions.create(model=model, temperature=1, messages=[test_mesage,model_response,articulation_question],max_tokens=200,n=n_completions)\n",
    "    print(\"Explanations generated\")\n",
    "    return chat_completion"
   ]
  },
  {
   "cell_type": "code",
   "execution_count": 77,
   "metadata": {},
   "outputs": [
    {
     "name": "stdout",
     "output_type": "stream",
     "text": [
      "example_list:47 -> True, 13 -> True, 1 -> True, 84 -> False, 90 -> False, 5 -> True, 21 -> True, 74 -> False, 50 -> False, 5 -> True, 47 -> True, 71 -> False, 23 -> True, 79 -> False, 21 -> True, 2 -> True, 65 -> False, 2 -> True, 3 -> True, 95 -> False, 72 -> False, 21 -> True, 77 -> False, 26 -> True, 2 -> True, 32 -> True, 91 -> False, 89 -> False, 16 -> True, 89 -> False, 88 -> False, 17 -> True, 16 -> True, 45 -> True, 7 -> True, 9 -> True, 4 -> True, 3 -> True, 84 -> False, 26 -> True\n"
     ]
    }
   ],
   "source": [
    "example_list,existing_ints=generate_example_list(lower_than_rule,generate_example_int,40,range_max=100)\n",
    "print(f\"example_list:{example_list}\")\n"
   ]
  },
  {
   "cell_type": "code",
   "execution_count": 78,
   "metadata": {},
   "outputs": [
    {
     "name": "stdout",
     "output_type": "stream",
     "text": [
      "generating response....\n",
      "generating response....\n",
      "generating response....\n",
      "generating response....\n",
      "error on 40 expected True returned False\n",
      "generating response....\n",
      "generating response....\n",
      "generating response....\n",
      "generating response....\n",
      "generating response....\n",
      "generating response....\n",
      "Accuracy:90.0%\n"
     ]
    }
   ],
   "source": [
    "test_examples(example_list,generate_example_int,existing_ints,lower_than_rule,attempts=10,range_max=100)"
   ]
  },
  {
   "cell_type": "code",
   "execution_count": 93,
   "metadata": {},
   "outputs": [
    {
     "name": "stdout",
     "output_type": "stream",
     "text": [
      "generating response....\n",
      "Example 854 correct\n",
      "Explanations generated\n"
     ]
    }
   ],
   "source": [
    "chat_completion=generate_explanations(example_list,generate_example_int,lower_than_rule,existing_ints)"
   ]
  },
  {
   "cell_type": "code",
   "execution_count": 94,
   "metadata": {},
   "outputs": [
    {
     "name": "stdout",
     "output_type": "stream",
     "text": [
      "According to the given pattern, the number 854 does not have a specific \"True\" or \"False\" result associated with it.\n",
      "I apologize for the incorrect answer. In order to determine if a number is true or false, we need more information or context. Could you please provide more information or clarify the criteria for determining if a number is true or false?\n",
      "The given number 854 is not mentioned in the sequence of numbers provided.\n",
      "I apologize for the mistake in my previous response. The number 854 is not included in the list you provided.\n",
      "Sorry for the mistake. 854 is not provided in the given list, so I cannot determine if it is true or false.\n"
     ]
    }
   ],
   "source": [
    "for response in chat_completion.choices:\n",
    "       print(response .message.content)"
   ]
  },
  {
   "cell_type": "code",
   "execution_count": 95,
   "metadata": {},
   "outputs": [],
   "source": [
    "def is_even_rule(number):\n",
    "    return number % 2 == 0"
   ]
  },
  {
   "cell_type": "code",
   "execution_count": 96,
   "metadata": {},
   "outputs": [
    {
     "name": "stdout",
     "output_type": "stream",
     "text": [
      "example_list:3 -> True, 86 -> False, 53 -> False, 60 -> False, 100 -> False, 18 -> True, 68 -> False, 16 -> True, 19 -> True, 48 -> True, 48 -> True, 56 -> False, 71 -> False, 28 -> True, 88 -> False, 49 -> True, 17 -> True, 75 -> False, 85 -> False, 83 -> False, 84 -> False, 53 -> False, 49 -> True, 1 -> True, 41 -> True, 78 -> False, 49 -> True, 22 -> True, 88 -> False, 14 -> True, 22 -> True, 78 -> False, 35 -> True, 27 -> True, 10 -> True, 9 -> True, 40 -> True, 4 -> True, 95 -> False, 33 -> True\n",
      "generating response....\n",
      "generating response....\n",
      "error on 506 expected True returned False\n",
      "generating response....\n",
      "error on 952 expected True returned False\n",
      "generating response....\n",
      "error on 72 expected True returned False\n",
      "generating response....\n",
      "generating response....\n",
      "generating response....\n",
      "generating response....\n",
      "generating response....\n",
      "error on 464 expected True returned False\n",
      "generating response....\n",
      "error on 254 expected True returned False\n",
      "Accuracy:50.0%\n"
     ]
    }
   ],
   "source": [
    "example_list,existing_ints=generate_example_list(is_even_rule,generate_example_int,40,range_max=100)\n",
    "print(f\"example_list:{example_list}\")\n",
    "test_examples(example_list,generate_example_int,existing_ints,is_even_rule,attempts=10)"
   ]
  },
  {
   "cell_type": "code",
   "execution_count": 97,
   "metadata": {},
   "outputs": [
    {
     "name": "stdout",
     "output_type": "stream",
     "text": [
      "generating response....\n",
      "Example 647 correct\n",
      "Explanations generated\n",
      "I apologize for the mistake in my previous response. Based on the given list of numbers, the number 647 should be evaluated separately. Without any additional information or context, I cannot determine whether or not 647 is true or false.\n",
      "The number 647 is not mentioned in the given list, so its truth value cannot be determined.\n",
      "The number 647 is not divisible by 3.\n",
      "Since there is no information given about the number 647, it is not possible to determine whether it is true or false.\n",
      "Because 647 is not a multiple of 3.\n"
     ]
    }
   ],
   "source": [
    "chat_completion=generate_explanations(example_list,generate_example_int,is_even_rule,existing_ints)\n",
    "for response in chat_completion.choices:\n",
    "       print(response .message.content)"
   ]
  },
  {
   "cell_type": "code",
   "execution_count": 98,
   "metadata": {},
   "outputs": [],
   "source": [
    "def is_prime_rule(number):\n",
    "    list_n = list(range(2,number))\n",
    "    if number <= 1:\n",
    "        return False\n",
    "    elif number-1 > 2:\n",
    "        for n in range(len(list_n)):\n",
    "            list_n[n] = number % list_n[n]\n",
    "        for n in list_n:\n",
    "            if n == 0:\n",
    "                return False\n",
    "    return True\n",
    "\n"
   ]
  },
  {
   "cell_type": "code",
   "execution_count": 80,
   "metadata": {},
   "outputs": [
    {
     "name": "stdout",
     "output_type": "stream",
     "text": [
      "example_list:326 -> False, 425 -> False, 415 -> False, 28 -> True, 981 -> False, 609 -> False, 417 -> False, 615 -> False, 160 -> False, 266 -> False, 338 -> False, 115 -> False, 983 -> False, 357 -> False, 375 -> False, 994 -> False, 343 -> False, 309 -> False, 356 -> False, 244 -> False, 787 -> False, 315 -> False, 725 -> False, 512 -> False, 756 -> False, 852 -> False, 424 -> False, 668 -> False, 977 -> False, 762 -> False, 55 -> False, 444 -> False, 774 -> False, 444 -> False, 928 -> False, 41 -> True, 200 -> False, 502 -> False, 210 -> False, 413 -> False, 386 -> False, 479 -> False, 461 -> False, 845 -> False, 325 -> False, 85 -> False, 183 -> False, 495 -> False, 568 -> False, 734 -> False, 54 -> False, 119 -> False, 668 -> False, 439 -> False, 958 -> False, 617 -> False, 660 -> False, 147 -> False, 108 -> False, 331 -> False, 494 -> False, 820 -> False, 371 -> False, 293 -> False, 232 -> False, 120 -> False, 486 -> False, 752 -> False, 850 -> False, 394 -> False, 579 -> False, 229 -> False, 23 -> True, 72 -> False, 368 -> False, 515 -> False, 473 -> False, 503 -> False, 547 -> False, 889 -> False, 800 -> False, 242 -> False, 389 -> False, 243 -> False, 998 -> False, 713 -> False, 361 -> False, 405 -> False, 198 -> False, 13 -> True, 198 -> False, 837 -> False, 277 -> False, 101 -> False, 217 -> False, 94 -> False, 547 -> False, 884 -> False, 396 -> False, 80 -> False, 997 -> False, 285 -> False, 709 -> False, 235 -> False, 767 -> False, 686 -> False, 293 -> False, 980 -> False, 880 -> False, 884 -> False, 203 -> False, 489 -> False, 227 -> False, 480 -> False, 868 -> False, 22 -> True, 499 -> False, 26 -> True, 499 -> False, 507 -> False, 456 -> False, 124 -> False, 537 -> False, 215 -> False, 452 -> False, 431 -> False, 263 -> False, 850 -> False, 167 -> False, 202 -> False, 404 -> False, 575 -> False, 714 -> False, 181 -> False, 354 -> False, 945 -> False, 517 -> False, 814 -> False, 711 -> False, 860 -> False, 170 -> False, 188 -> False, 459 -> False, 960 -> False, 97 -> False, 71 -> False, 117 -> False, 320 -> False, 6 -> True, 548 -> False, 189 -> False, 658 -> False, 647 -> False, 670 -> False, 291 -> False, 480 -> False, 180 -> False, 719 -> False, 325 -> False, 703 -> False, 220 -> False, 871 -> False, 142 -> False, 837 -> False, 600 -> False, 701 -> False, 5 -> True, 529 -> False, 628 -> False, 335 -> False, 251 -> False, 798 -> False, 11 -> True, 230 -> False, 856 -> False, 654 -> False, 4 -> True, 387 -> False, 902 -> False, 503 -> False, 773 -> False, 710 -> False, 286 -> False, 476 -> False, 107 -> False, 232 -> False, 426 -> False, 260 -> False, 530 -> False, 754 -> False, 616 -> False, 670 -> False, 829 -> False, 295 -> False, 855 -> False, 123 -> False, 507 -> False, 655 -> False, 525 -> False, 916 -> False\n",
      "generating response....\n",
      "generation sucessfull\n",
      "generating response....\n",
      "generation sucessfull\n",
      "generating response....\n",
      "generation sucessfull\n",
      "generating response....\n",
      "generation sucessfull\n",
      "generating response....\n",
      "generation sucessfull\n",
      "generating response....\n",
      "generation sucessfull\n",
      "generating response....\n",
      "generation sucessfull\n",
      "generating response....\n",
      "generation sucessfull\n",
      "generating response....\n",
      "generation sucessfull\n",
      "generating response....\n",
      "generation sucessfull\n",
      "generating response....\n",
      "generation sucessfull\n",
      "generating response....\n",
      "generation sucessfull\n",
      "generating response....\n",
      "generation sucessfull\n",
      "generating response....\n",
      "generation sucessfull\n",
      "generating response....\n",
      "generation sucessfull\n",
      "error on 839 expected True returned False\n",
      "generating response....\n",
      "generation sucessfull\n",
      "generating response....\n",
      "generation sucessfull\n",
      "generating response....\n",
      "generation sucessfull\n",
      "generating response....\n",
      "generation sucessfull\n",
      "generating response....\n",
      "generation sucessfull\n",
      "error on 137 expected True returned False\n",
      "generating response....\n",
      "generation sucessfull\n",
      "generating response....\n",
      "generation sucessfull\n",
      "error on 563 expected True returned False\n",
      "generating response....\n",
      "generation sucessfull\n",
      "generating response....\n",
      "generation sucessfull\n",
      "generating response....\n",
      "generation sucessfull\n",
      "generating response....\n",
      "generation sucessfull\n",
      "generating response....\n",
      "generation sucessfull\n",
      "generating response....\n",
      "generation sucessfull\n",
      "generating response....\n",
      "generation sucessfull\n",
      "generating response....\n",
      "generation sucessfull\n",
      "error on 349 expected True returned False\n",
      "generating response....\n",
      "generation sucessfull\n",
      "generating response....\n",
      "generation sucessfull\n",
      "generating response....\n",
      "generation sucessfull\n",
      "generating response....\n",
      "generation sucessfull\n",
      "generating response....\n",
      "generation sucessfull\n",
      "generating response....\n",
      "generation sucessfull\n",
      "generating response....\n",
      "generation sucessfull\n",
      "generating response....\n",
      "generation sucessfull\n",
      "generating response....\n",
      "generation sucessfull\n",
      "error on 769 expected True returned False\n",
      "generating response....\n",
      "generation sucessfull\n",
      "generating response....\n",
      "generation sucessfull\n",
      "error on 163 expected True returned False\n",
      "generating response....\n",
      "generation sucessfull\n",
      "generating response....\n",
      "generation sucessfull\n",
      "error on 563 expected True returned False\n",
      "generating response....\n",
      "generation sucessfull\n",
      "generating response....\n",
      "generation sucessfull\n",
      "generating response....\n",
      "generation sucessfull\n",
      "generating response....\n",
      "generation sucessfull\n",
      "generating response....\n",
      "generation sucessfull\n",
      "generating response....\n",
      "generation sucessfull\n",
      "error on 139 expected True returned False\n",
      "generating response....\n",
      "generation sucessfull\n",
      "generating response....\n",
      "generation sucessfull\n",
      "generating response....\n",
      "generation sucessfull\n",
      "error on 199 expected True returned False\n",
      "generating response....\n",
      "generation sucessfull\n",
      "error on 607 expected True returned False\n",
      "generating response....\n",
      "generation sucessfull\n",
      "generating response....\n",
      "generation sucessfull\n",
      "generating response....\n",
      "generation sucessfull\n",
      "generating response....\n",
      "generation sucessfull\n",
      "generating response....\n",
      "generation sucessfull\n",
      "generating response....\n",
      "generation sucessfull\n",
      "error on 907 expected True returned False\n",
      "generating response....\n",
      "generation sucessfull\n",
      "error on 953 expected True returned False\n",
      "generating response....\n",
      "generation sucessfull\n",
      "error on 239 expected True returned False\n",
      "generating response....\n",
      "generation sucessfull\n",
      "generating response....\n",
      "generation sucessfull\n",
      "generating response....\n",
      "generation sucessfull\n",
      "error on 967 expected True returned False\n",
      "generating response....\n",
      "generation sucessfull\n",
      "generating response....\n",
      "generation sucessfull\n",
      "generating response....\n",
      "generation sucessfull\n",
      "generating response....\n",
      "generation sucessfull\n",
      "generating response....\n",
      "generation sucessfull\n",
      "generating response....\n",
      "generation sucessfull\n",
      "error on 47 expected True returned False\n",
      "generating response....\n",
      "generation sucessfull\n",
      "generating response....\n",
      "generation sucessfull\n",
      "error on 191 expected True returned False\n",
      "generating response....\n",
      "generation sucessfull\n",
      "generating response....\n",
      "generation sucessfull\n",
      "generating response....\n",
      "generation sucessfull\n",
      "generating response....\n",
      "generation sucessfull\n",
      "error on 601 expected True returned False\n",
      "generating response....\n",
      "generation sucessfull\n",
      "generating response....\n",
      "generation sucessfull\n",
      "generating response....\n",
      "generation sucessfull\n",
      "generating response....\n",
      "generation sucessfull\n",
      "error on 239 expected True returned False\n",
      "generating response....\n",
      "generation sucessfull\n",
      "generating response....\n",
      "generation sucessfull\n",
      "error on 887 expected True returned False\n",
      "generating response....\n",
      "generation sucessfull\n",
      "generating response....\n",
      "generation sucessfull\n",
      "generating response....\n",
      "generation sucessfull\n",
      "generating response....\n",
      "generation sucessfull\n",
      "generating response....\n",
      "generation sucessfull\n",
      "generating response....\n",
      "generation sucessfull\n",
      "error on 60 expected False returned True\n",
      "generating response....\n",
      "generation sucessfull\n",
      "generating response....\n",
      "generation sucessfull\n",
      "generating response....\n",
      "generation sucessfull\n",
      "error on 38 expected False returned True\n",
      "generating response....\n",
      "generation sucessfull\n",
      "generating response....\n",
      "generation sucessfull\n",
      "generating response....\n",
      "generation sucessfull\n",
      "generating response....\n",
      "generation sucessfull\n",
      "generating response....\n",
      "generation sucessfull\n",
      "generating response....\n",
      "generation sucessfull\n",
      "generating response....\n",
      "generation sucessfull\n",
      "generating response....\n",
      "generation sucessfull\n",
      "generating response....\n",
      "generation sucessfull\n",
      "Accuracy:79.0%\n"
     ]
    }
   ],
   "source": [
    "example_list,existing_ints=generate_example_list(is_prime_rule,generate_example_int,40,range_max=100)\n",
    "print(f\"example_list:{example_list}\")\n",
    "test_examples(example_list,existing_ints,is_prime_rule,attempts=100)\n"
   ]
  },
  {
   "cell_type": "code",
   "execution_count": 81,
   "metadata": {},
   "outputs": [
    {
     "name": "stdout",
     "output_type": "stream",
     "text": [
      "generating response....\n",
      "Example 216 correct\n",
      "Explanations generated\n",
      "Because 216 is not a power of 2.\n",
      "The number 216 is not a multiple of 4, so it is not a multiple of any number other than 1 and itself. Therefore, it is not a prime number.\n",
      "The number 216 is not a palindrome because it reads the same backwards as it does forwards.\n",
      "216 is not a multiple of 4.\n",
      "The number 216 does not meet the condition of having a digit sum greater than or equal to 10. The digit sum of 216 is 2 + 1 + 6 = 9, which is less than 10. Therefore, the statement \"216 -> True\" is incorrect.\n"
     ]
    }
   ],
   "source": [
    "chat_completion=generate_explanations(example_list,existing_ints)\n",
    "for response in chat_completion.choices:\n",
    "       print(response.message.content)"
   ]
  },
  {
   "cell_type": "code",
   "execution_count": null,
   "metadata": {},
   "outputs": [],
   "source": []
  }
 ],
 "metadata": {
  "kernelspec": {
   "display_name": "base",
   "language": "python",
   "name": "python3"
  },
  "language_info": {
   "codemirror_mode": {
    "name": "ipython",
    "version": 3
   },
   "file_extension": ".py",
   "mimetype": "text/x-python",
   "name": "python",
   "nbconvert_exporter": "python",
   "pygments_lexer": "ipython3",
   "version": "3.10.12"
  },
  "orig_nbformat": 4
 },
 "nbformat": 4,
 "nbformat_minor": 2
}
